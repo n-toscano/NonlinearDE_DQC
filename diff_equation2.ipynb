{
 "cells": [
  {
   "cell_type": "code",
   "execution_count": 1,
   "metadata": {},
   "outputs": [
    {
     "name": "stderr",
     "output_type": "stream",
     "text": [
      "2022-08-05 10:03:25.921418: W tensorflow/stream_executor/platform/default/dso_loader.cc:64] Could not load dynamic library 'libcudart.so.11.0'; dlerror: libcudart.so.11.0: cannot open shared object file: No such file or directory\n",
      "2022-08-05 10:03:25.921743: I tensorflow/stream_executor/cuda/cudart_stub.cc:29] Ignore above cudart dlerror if you do not have a GPU set up on your machine.\n",
      "2022-08-05 10:03:34.388728: W tensorflow/stream_executor/platform/default/dso_loader.cc:64] Could not load dynamic library 'libcuda.so.1'; dlerror: libcuda.so.1: cannot open shared object file: No such file or directory\n",
      "2022-08-05 10:03:34.388913: W tensorflow/stream_executor/cuda/cuda_driver.cc:269] failed call to cuInit: UNKNOWN ERROR (303)\n",
      "2022-08-05 10:03:34.389425: I tensorflow/stream_executor/cuda/cuda_diagnostics.cc:156] kernel driver does not appear to be running on this host (vt-toscanoni): /proc/driver/nvidia/version does not exist\n",
      "2022-08-05 10:03:34.390598: I tensorflow/core/platform/cpu_feature_guard.cc:151] This TensorFlow binary is optimized with oneAPI Deep Neural Network Library (oneDNN) to use the following CPU instructions in performance-critical operations:  AVX2 FMA\n",
      "To enable them in other operations, rebuild TensorFlow with the appropriate compiler flags.\n"
     ]
    }
   ],
   "source": [
    "import cirq\n",
    "from cirq.contrib.svg import SVGCircuit\n",
    "import sympy\n",
    "import numpy as np\n",
    "import matplotlib.pyplot as plt\n",
    "import tensorflow as tf\n",
    "from tensorflow.keras.optimizers import Adam\n",
    "from tensorflow.keras.losses import MSE\n",
    "import tensorflow_quantum as tfq\n",
    "from tqdm import tqdm\n",
    "import pandas as pd"
   ]
  },
  {
   "cell_type": "code",
   "execution_count": 2,
   "metadata": {},
   "outputs": [],
   "source": [
    "def generate_data_diff(qubits, xs):\n",
    "    \"\"\"\n",
    "    Pass x-points through differentiated feature map\n",
    "    \"\"\"\n",
    "    f_map_diff = []\n",
    "    shift = [0]*len(qubits)\n",
    "    for x in xs:\n",
    "        dfx = []\n",
    "        for s in range(len(qubits)):\n",
    "            ps_couple = []\n",
    "            for sign in [1,-1]:\n",
    "                ps_signs = []\n",
    "                shift[s] = sign*np.pi/2\n",
    "                for i,q in enumerate(qubits):\n",
    "                    ps_signs.append(cirq.ry(2*np.arccos(x) + shift[i])(q))\n",
    "                shift[s] = 0\n",
    "                ps_couple.append(cirq.Circuit(ps_signs))\n",
    "\n",
    "            dfx.append(tfq.convert_to_tensor(ps_couple))\n",
    "        f_map_diff.append(dfx)\n",
    "\n",
    "    return f_map_diff\n",
    "\n",
    "def generate_data(qubits, xs):\n",
    "    \"\"\"\n",
    "    Pass x-points through standard feature map\n",
    "    \"\"\"\n",
    "    f_map = []\n",
    "    for x in xs:\n",
    "        fx = []\n",
    "        for i,q in enumerate(qubits):\n",
    "            fx.append(cirq.ry(2*np.arccos(x))(q))\n",
    "            \n",
    "        f_map.append(cirq.Circuit(fx))\n",
    "\n",
    "    return tfq.convert_to_tensor(f_map)"
   ]
  },
  {
   "cell_type": "code",
   "execution_count": 3,
   "metadata": {},
   "outputs": [],
   "source": [
    "def single_qubit_rotations(q, symbols):\n",
    "\n",
    "    return [cirq.rz(symbols[0])(q),\n",
    "            cirq.rx(symbols[1])(q),\n",
    "            cirq.rz(symbols[2])(q)]\n",
    "\n",
    "def cnots(qubits):\n",
    "    \n",
    "    cnots = [cirq.CNOT(qc, qt) for qc, qt in zip(qubits, qubits[1:])]\n",
    "    cnots += ([cirq.CNOT(qubits[-1], qubits[0])] if len(qubits) != 2 else [])\n",
    "    \n",
    "    return cnots"
   ]
  },
  {
   "cell_type": "code",
   "execution_count": 4,
   "metadata": {},
   "outputs": [],
   "source": [
    "def parametrized_circuit(qubits, layers=5):\n",
    "    \"\"\"\n",
    "    Create parametrized circuit with single qubit rotations and CNOT layer\n",
    "    \"\"\"\n",
    "    n_qubits = len(qubits)\n",
    "    circuit = cirq.Circuit()\n",
    "\n",
    "    # Sympy symbols for variational angles\n",
    "    thetas = sympy.symbols(f'theta_(0:{layers*n_qubits*3})')\n",
    "    thetas = np.asarray(thetas).reshape((layers, n_qubits, 3))\n",
    "\n",
    "    for l in range(layers):\n",
    "        # add Variational layer and cnot gates\n",
    "        circuit += [single_qubit_rotations(q, thetas[l, i]) for i,q in enumerate(qubits)]\n",
    "        circuit += cnots(qubits)\n",
    "\n",
    "    return circuit"
   ]
  },
  {
   "cell_type": "code",
   "execution_count": 5,
   "metadata": {},
   "outputs": [],
   "source": [
    "def get_obs(qubits):\n",
    "    \"\"\"\n",
    "    Create observation (total magnetization)\n",
    "    \"\"\"\n",
    "    return sum([cirq.Z(q) for q in qubits])"
   ]
  },
  {
   "cell_type": "code",
   "execution_count": 6,
   "metadata": {},
   "outputs": [],
   "source": [
    "def q_diff_model(qubits):\n",
    "    \"\"\"\n",
    "    Create VQC model with tensorflow quantum which includes:\n",
    "     - input layer (x data filtered through feature map)\n",
    "     - differentiable parametrized circuit (Adjoint differentiation)\n",
    "     - observations\n",
    "    \"\"\"\n",
    "    obs = get_obs(qubits)\n",
    "    diff = tfq.differentiators.Adjoint()\n",
    "    input_layer = tf.keras.Input(shape=(), dtype=tf.dtypes.string)\n",
    "    model = tfq.layers.PQC(parametrized_circuit(qubits),\n",
    "                            obs,\n",
    "                            differentiator=diff,\n",
    "                            initializer=tf.keras.initializers.RandomUniform(-np.pi,np.pi)\n",
    "                            )(input_layer)\n",
    "    q_model = tf.keras.Model(inputs=[input_layer], outputs=[model])\n",
    "    return q_model"
   ]
  },
  {
   "cell_type": "code",
   "execution_count": 7,
   "metadata": {},
   "outputs": [],
   "source": [
    "def model_output_diff(model,qubits,xt,dmt):\n",
    "    \"\"\"\n",
    "    Output of the VQC model which will be compared to du(x)/dx\n",
    "    following equations 8-10 of paper https://arxiv.org/pdf/2011.10395.pdf\n",
    "    \"\"\"\n",
    "    dy = []\n",
    "    for i in range(len(xt)):\n",
    "        z_plus = 0\n",
    "        z_minus= 0\n",
    "        for k in range(len(qubits)):\n",
    "            z_plus += model(dmt[i][k])[0]\n",
    "            z_minus += model(dmt[i][k])[1]\n",
    "        d_phi = -2/np.sqrt(1-xt[i]**2)\n",
    "        diff_value = 0.5*d_phi*(z_plus-z_minus)\n",
    "        \n",
    "        dy.append(diff_value[0])\n",
    "    return tf.convert_to_tensor(dy)\n",
    "\n",
    "def model_output(model,map):\n",
    "    \"\"\"\n",
    "    Output of the VQC model which will be compared to u(x)\n",
    "    \"\"\"\n",
    "    y = []\n",
    "    model_output = model(map)\n",
    "    for i in range(len(map)):\n",
    "        value = model_output[i]\n",
    "        y.append(value[0])\n",
    "    return tf.convert_to_tensor(y)"
   ]
  },
  {
   "cell_type": "code",
   "execution_count": 8,
   "metadata": {},
   "outputs": [],
   "source": [
    "def u(x,k,l):\n",
    "    return np.exp(-k*l*x) * np.cos(l*x)"
   ]
  },
  {
   "cell_type": "code",
   "execution_count": 73,
   "metadata": {},
   "outputs": [],
   "source": [
    "class Trainer:\n",
    "    \"\"\"\n",
    "    Custom trainer class for the model.\n",
    "    Takes into account:\n",
    "     - training data (#20)\n",
    "     - floating boundary handling\n",
    "     - regularization data (#15) (reverse sigmoid optimization schedule)\n",
    "     - quality check\n",
    "\n",
    "    Run have been executed with \n",
    "     - fixed training points and regularization points \n",
    "\n",
    "    \"\"\"\n",
    "    def __init__(self, qubits, max_steps, tol, \n",
    "                n_layers=5, t_points=20, r_points=6, debug=False):\n",
    "        \n",
    "        self.qubits = qubits\n",
    "        self.n_layers = n_layers\n",
    "        self.model = q_diff_model(qubits)\n",
    "        self.opt = Adam(learning_rate=0.03)\n",
    "        \n",
    "        self.max_steps = max_steps\n",
    "        self.step = 0\n",
    "        self.tol = tol\n",
    "\n",
    "        self.l = 8\n",
    "        self.k = 0.1\n",
    "\n",
    "        self.xt = np.linspace(0,0.9,t_points)\n",
    "        self.xr = np.linspace(0,0.9,r_points)\n",
    "        self.xb = np.array([0])\n",
    "        self.x_quality = np.linspace(0,0.9,50)\n",
    "\n",
    "        self.dmap_t = generate_data_diff(qubits,self.xt)\n",
    "        self.map_t = generate_data(qubits,self.xt)\n",
    "        self.map_r = generate_data(qubits,self.xr)\n",
    "        self.map_b = generate_data(qubits,self.xb)\n",
    "        self.map_quality = generate_data(qubits,self.x_quality)\n",
    "\n",
    "        self.yr_true = u(self.xr,self.k,self.l)\n",
    "        self.yb_true = u(self.xb,self.k,self.l)\n",
    "        self.yq_true = u(self.x_quality,self.k,self.l)\n",
    "        #self.dy_true = du(self.xt)\n",
    "        \n",
    "    def update_model(self):\n",
    "        \n",
    "        reg_coeff = 1 - np.tanh((self.step - self.max_steps*0.3)/(0.25*self.max_steps))\n",
    "\n",
    "        with tf.GradientTape() as g:\n",
    "            \n",
    "            # floating boundary handling     \n",
    "            yb = model_output(self.model,self.map_b)\n",
    "            fb = self.yb_true - yb\n",
    "            \n",
    "            # differential value\n",
    "            dyt = model_output_diff(self.model,self.qubits,self.xt,self.dmap_t)\n",
    "            yt = model_output(self.model,self.map_t) + fb\n",
    "            dy_true = - self.l*yt*(self.k + tf.math.tan((self.l*self.xt).astype('float32')))\n",
    "            \n",
    "            # regularization\n",
    "            yr = model_output(self.model,self.map_r)\n",
    "            \n",
    "            # losses\n",
    "            diff_loss = MSE(dyt,dy_true)\n",
    "            reg_loss = tf.cast(reg_coeff*MSE(yr, self.yr_true), tf.float32)\n",
    "            loss = diff_loss + reg_loss\n",
    "            \n",
    "        gradient = g.gradient(loss, self.model.trainable_weights)\n",
    "        self.opt.apply_gradients(zip(gradient, self.model.trainable_weights))\n",
    "\n",
    "        y_quality = model_output(self.model,self.map_quality)\n",
    "        quality_loss = MSE(y_quality, self.yq_true)\n",
    "\n",
    "        return loss, diff_loss, quality_loss, reg_loss, fb\n",
    "\n",
    "    def learn(self):\n",
    "        stat = {}\n",
    "        weights = {}\n",
    "        df = pd.DataFrame(columns=['Quality loss',\n",
    "                                   'Total loss',\n",
    "                                   'Differential loss',\n",
    "                                   'Boundary loss',\n",
    "                                   'Regularization loss'])\n",
    "\n",
    "        with tqdm(range(self.max_steps)) as steps:\n",
    "            for s in steps:\n",
    "                loss, diff_loss, quality_loss, reg_loss, fb = self.update_model()\n",
    "                stat['diff loss'] = round(diff_loss.numpy(),5)\n",
    "                stat['reg loss'] = round(reg_loss.numpy(),5)\n",
    "                stat['bound loss'] = round(fb.numpy()[0],5)\n",
    "                stat['full loss'] = round(loss.numpy(),5)\n",
    "                stat['quality loss'] = round(quality_loss.numpy(),5)\n",
    "\n",
    "                df.loc[s] = [quality_loss.numpy(),\n",
    "                            loss.numpy(),\n",
    "                            diff_loss.numpy(),\n",
    "                            fb.numpy()[0],\n",
    "                            reg_loss.numpy()\n",
    "                            ]\n",
    "\n",
    "                steps.set_postfix(stat)\n",
    "                self.step += 1\n",
    "                \n",
    "                if self.step % 20 == 0 or self.step == 1:\n",
    "                    weights[self.step] = tf.convert_to_tensor(self.model.trainable_weights)\n",
    "                if self.step == self.max_steps:\n",
    "                    weights[self.step] = tf.convert_to_tensor(self.model.trainable_weights)\n",
    "\n",
    "                if loss < self.tol:\n",
    "                    print('Loss already lower than tolerance!')\n",
    "                    break\n",
    "        return df, weights\n"
   ]
  },
  {
   "cell_type": "markdown",
   "metadata": {},
   "source": [
    "# Tests"
   ]
  },
  {
   "cell_type": "code",
   "execution_count": 74,
   "metadata": {},
   "outputs": [],
   "source": [
    "n_qubits = 6\n",
    "n_layers = 5\n",
    "max_steps = 250\n",
    "qubits = [cirq.LineQubit(i) for i in range(n_qubits)]\n",
    "\n",
    "trainer = Trainer(qubits, n_layers=n_layers, max_steps=max_steps, tol=1.e-5, debug=False)"
   ]
  },
  {
   "cell_type": "code",
   "execution_count": 75,
   "metadata": {},
   "outputs": [
    {
     "name": "stderr",
     "output_type": "stream",
     "text": [
      "100%|██████████| 250/250 [13:05<00:00,  3.14s/it, diff loss=0.558, reg loss=4e-5, bound loss=0.00603, full loss=0.558, quality loss=0.00782]   \n"
     ]
    }
   ],
   "source": [
    "df, trained_weights = trainer.learn()"
   ]
  },
  {
   "cell_type": "code",
   "execution_count": 76,
   "metadata": {},
   "outputs": [
    {
     "data": {
      "application/vnd.plotly.v1+json": {
       "config": {
        "plotlyServerURL": "https://plot.ly"
       },
       "data": [
        {
         "hovertemplate": "variable=Quality loss<br>index=%{x}<br>value=%{y}<extra></extra>",
         "legendgroup": "Quality loss",
         "line": {
          "color": "#636efa",
          "dash": "solid"
         },
         "marker": {
          "symbol": "circle"
         },
         "mode": "lines",
         "name": "Quality loss",
         "orientation": "v",
         "showlegend": true,
         "type": "scatter",
         "x": [
          0,
          1,
          2,
          3,
          4,
          5,
          6,
          7,
          8,
          9,
          10,
          11,
          12,
          13,
          14,
          15,
          16,
          17,
          18,
          19,
          20,
          21,
          22,
          23,
          24,
          25,
          26,
          27,
          28,
          29,
          30,
          31,
          32,
          33,
          34,
          35,
          36,
          37,
          38,
          39,
          40,
          41,
          42,
          43,
          44,
          45,
          46,
          47,
          48,
          49,
          50,
          51,
          52,
          53,
          54,
          55,
          56,
          57,
          58,
          59,
          60,
          61,
          62,
          63,
          64,
          65,
          66,
          67,
          68,
          69,
          70,
          71,
          72,
          73,
          74,
          75,
          76,
          77,
          78,
          79,
          80,
          81,
          82,
          83,
          84,
          85,
          86,
          87,
          88,
          89,
          90,
          91,
          92,
          93,
          94,
          95,
          96,
          97,
          98,
          99,
          100,
          101,
          102,
          103,
          104,
          105,
          106,
          107,
          108,
          109,
          110,
          111,
          112,
          113,
          114,
          115,
          116,
          117,
          118,
          119,
          120,
          121,
          122,
          123,
          124,
          125,
          126,
          127,
          128,
          129,
          130,
          131,
          132,
          133,
          134,
          135,
          136,
          137,
          138,
          139,
          140,
          141,
          142,
          143,
          144,
          145,
          146,
          147,
          148,
          149,
          150,
          151,
          152,
          153,
          154,
          155,
          156,
          157,
          158,
          159,
          160,
          161,
          162,
          163,
          164,
          165,
          166,
          167,
          168,
          169,
          170,
          171,
          172,
          173,
          174,
          175,
          176,
          177,
          178,
          179,
          180,
          181,
          182,
          183,
          184,
          185,
          186,
          187,
          188,
          189,
          190,
          191,
          192,
          193,
          194,
          195,
          196,
          197,
          198,
          199,
          200,
          201,
          202,
          203,
          204,
          205,
          206,
          207,
          208,
          209,
          210,
          211,
          212,
          213,
          214,
          215,
          216,
          217,
          218,
          219,
          220,
          221,
          222,
          223,
          224,
          225,
          226,
          227,
          228,
          229,
          230,
          231,
          232,
          233,
          234,
          235,
          236,
          237,
          238,
          239,
          240,
          241,
          242,
          243,
          244,
          245,
          246,
          247,
          248,
          249
         ],
         "xaxis": "x",
         "y": [
          0.5547968363609492,
          0.47514670673558995,
          0.4332845113047232,
          0.4048465912482653,
          0.371076759391456,
          0.3317413718479456,
          0.2928504778190375,
          0.25631200415443467,
          0.21950908898623622,
          0.180486123060173,
          0.14136594926437426,
          0.1071895104216369,
          0.08217951011152609,
          0.06720501317200869,
          0.060453677149207546,
          0.05918822574693307,
          0.060774900673130634,
          0.06298346996382154,
          0.06425416208649906,
          0.06402869506945667,
          0.06275134089260187,
          0.061416918707022344,
          0.06089771671365352,
          0.06136047520473094,
          0.06209814571931387,
          0.06199578440913296,
          0.06036794652809324,
          0.057457450832148566,
          0.054193588857650236,
          0.05153262833059061,
          0.049930224337170974,
          0.04924240570204864,
          0.04899227514937035,
          0.04872741752777628,
          0.04823698942389946,
          0.0475610428096316,
          0.04685858627496686,
          0.0462518646396863,
          0.04574583289568228,
          0.045256141694732126,
          0.044698619276929336,
          0.04405544719544476,
          0.043378780081415755,
          0.04275113585128725,
          0.042254919209722804,
          0.04197080262745266,
          0.04198185138959943,
          0.0423498903037669,
          0.04306045639849167,
          0.04397606609208724,
          0.04485018726840566,
          0.04541503104182943,
          0.04549533731179639,
          0.04507809473544894,
          0.04429603894857657,
          0.04335203625572759,
          0.042438339682090126,
          0.0416931308187382,
          0.04119649819208938,
          0.04097635635899625,
          0.04101004563252504,
          0.04122375929730808,
          0.04150649775225489,
          0.04174503524120585,
          0.041860296183287404,
          0.04182565022893867,
          0.0416561322246651,
          0.041386123362477226,
          0.0410492361650645,
          0.04067491726655163,
          0.04028909462211554,
          0.03991035706256071,
          0.03954202195904802,
          0.0391695426264597,
          0.03877062690390531,
          0.03833522963018751,
          0.03787835393464018,
          0.037439610731512564,
          0.03706173269684277,
          0.036773042650998684,
          0.036574503973251564,
          0.03643959430503593,
          0.03632178610603124,
          0.03616763245686915,
          0.03592994874904569,
          0.03558319353578846,
          0.035132950592219145,
          0.03461538465056401,
          0.034084643674905594,
          0.033594536441894765,
          0.0331838013229516,
          0.03286797058104633,
          0.0326381201299764,
          0.032465178260199484,
          0.03230815908784529,
          0.032127044255943114,
          0.03189401498288695,
          0.03160197277345603,
          0.03126344771991664,
          0.030903327391276537,
          0.030549120141001706,
          0.030221322137548884,
          0.02992917376451022,
          0.029668926658462314,
          0.02942855487425628,
          0.02919396248756666,
          0.028954620827214905,
          0.02870824013757718,
          0.028459718752190635,
          0.02821609977696342,
          0.027982517483279713,
          0.027759131468559396,
          0.027540564435990223,
          0.027318507631644607,
          0.027085597784562623,
          0.026838687456729144,
          0.02658080345279826,
          0.02632186031192528,
          0.026073438603242915,
          0.02584486125505853,
          0.025639356033127187,
          0.025452024591016306,
          0.025272157807898134,
          0.02508729121642656,
          0.024887386029523798,
          0.024669195601271125,
          0.02443676364850042,
          0.02419934643067028,
          0.02396751176441195,
          0.02374863162130834,
          0.023545266199453498,
          0.023353747928521084,
          0.023167393208434937,
          0.022979345857496076,
          0.022785035464339302,
          0.022583961230933,
          0.02237875326537723,
          0.022173565909091638,
          0.02197196467097649,
          0.021774629871384982,
          0.021580797051665893,
          0.021388101460010155,
          0.021194598212172653,
          0.020999878040367785,
          0.02080575136786118,
          0.020614433372263284,
          0.0204280224908159,
          0.02024608790234224,
          0.02006702445233667,
          0.01988775361836567,
          0.019706035787178607,
          0.01952109874958999,
          0.01933402304825964,
          0.019148028472398743,
          0.018965795296437875,
          0.018789330113795865,
          0.01861854292848442,
          0.018451316188562602,
          0.01828472236064438,
          0.018117073906253625,
          0.017947343868322946,
          0.017776599575502112,
          0.017606959117904213,
          0.017439868448062758,
          0.01727646255103576,
          0.017116245648427637,
          0.016958301131469025,
          0.016801321238609418,
          0.016644586884996652,
          0.01648860953782789,
          0.016334064171381057,
          0.016181179920991325,
          0.016030597736915193,
          0.01588168581267341,
          0.015733950773395188,
          0.015586492121714994,
          0.015439736912639546,
          0.01529423008643081,
          0.015150594822612225,
          0.015009193939626657,
          0.014870343178492992,
          0.014733129582965932,
          0.014596498448802404,
          0.014460307599839857,
          0.014324402196547618,
          0.014189279216621614,
          0.014055533588754342,
          0.013923818689049074,
          0.013794232867438208,
          0.013666258726610198,
          0.013539296116985377,
          0.01341304940768028,
          0.01328723764981224,
          0.013162510243286867,
          0.013038868315488249,
          0.01291682538776619,
          0.01279629582724213,
          0.012676802286713711,
          0.012558277346467295,
          0.012440523481524489,
          0.012323859804465476,
          0.012208373291454107,
          0.012094174038409367,
          0.011981399410624958,
          0.011869521267718546,
          0.011758744459734903,
          0.011648609740042637,
          0.011539194471026575,
          0.011430861994442819,
          0.011323908256959187,
          0.011218286498913637,
          0.01111390319882509,
          0.011010377918606545,
          0.010907660589273836,
          0.010805700255502948,
          0.010704604848422774,
          0.010604547608012002,
          0.010505763640293717,
          0.010408344605682528,
          0.010311616734352222,
          0.010215785084703157,
          0.010120696750795372,
          0.010026664623704364,
          0.009933604723082001,
          0.009841652783947389,
          0.009750610046474066,
          0.00966030073895809,
          0.00957095589766921,
          0.009482486421230504,
          0.009394916011282896,
          0.009308441414691478,
          0.009222837810615534,
          0.009137879259649198,
          0.009054112082040886,
          0.0089709088497087,
          0.008888719355870127,
          0.008807133005263807,
          0.008726585649725074,
          0.008646959099544844,
          0.008568119555412604,
          0.00849010744496751,
          0.008412973621254571,
          0.008336361109546971,
          0.008260627499645888,
          0.008185760669793103,
          0.008111648576554551,
          0.008038331826878353,
          0.007965961394428456,
          0.007894088983270191,
          0.00782311569515843
         ],
         "yaxis": "y"
        },
        {
         "hovertemplate": "variable=Total loss<br>index=%{x}<br>value=%{y}<extra></extra>",
         "legendgroup": "Total loss",
         "line": {
          "color": "#EF553B",
          "dash": "solid"
         },
         "marker": {
          "symbol": "circle"
         },
         "mode": "lines",
         "name": "Total loss",
         "orientation": "v",
         "showlegend": true,
         "type": "scatter",
         "x": [
          0,
          1,
          2,
          3,
          4,
          5,
          6,
          7,
          8,
          9,
          10,
          11,
          12,
          13,
          14,
          15,
          16,
          17,
          18,
          19,
          20,
          21,
          22,
          23,
          24,
          25,
          26,
          27,
          28,
          29,
          30,
          31,
          32,
          33,
          34,
          35,
          36,
          37,
          38,
          39,
          40,
          41,
          42,
          43,
          44,
          45,
          46,
          47,
          48,
          49,
          50,
          51,
          52,
          53,
          54,
          55,
          56,
          57,
          58,
          59,
          60,
          61,
          62,
          63,
          64,
          65,
          66,
          67,
          68,
          69,
          70,
          71,
          72,
          73,
          74,
          75,
          76,
          77,
          78,
          79,
          80,
          81,
          82,
          83,
          84,
          85,
          86,
          87,
          88,
          89,
          90,
          91,
          92,
          93,
          94,
          95,
          96,
          97,
          98,
          99,
          100,
          101,
          102,
          103,
          104,
          105,
          106,
          107,
          108,
          109,
          110,
          111,
          112,
          113,
          114,
          115,
          116,
          117,
          118,
          119,
          120,
          121,
          122,
          123,
          124,
          125,
          126,
          127,
          128,
          129,
          130,
          131,
          132,
          133,
          134,
          135,
          136,
          137,
          138,
          139,
          140,
          141,
          142,
          143,
          144,
          145,
          146,
          147,
          148,
          149,
          150,
          151,
          152,
          153,
          154,
          155,
          156,
          157,
          158,
          159,
          160,
          161,
          162,
          163,
          164,
          165,
          166,
          167,
          168,
          169,
          170,
          171,
          172,
          173,
          174,
          175,
          176,
          177,
          178,
          179,
          180,
          181,
          182,
          183,
          184,
          185,
          186,
          187,
          188,
          189,
          190,
          191,
          192,
          193,
          194,
          195,
          196,
          197,
          198,
          199,
          200,
          201,
          202,
          203,
          204,
          205,
          206,
          207,
          208,
          209,
          210,
          211,
          212,
          213,
          214,
          215,
          216,
          217,
          218,
          219,
          220,
          221,
          222,
          223,
          224,
          225,
          226,
          227,
          228,
          229,
          230,
          231,
          232,
          233,
          234,
          235,
          236,
          237,
          238,
          239,
          240,
          241,
          242,
          243,
          244,
          245,
          246,
          247,
          248,
          249
         ],
         "xaxis": "x",
         "y": [
          2404.3525390625,
          1591.7928466796875,
          934.2188110351562,
          469.262939453125,
          189.664306640625,
          55.710296630859375,
          11.778851509094238,
          8.411300659179688,
          14.830976486206055,
          17.89960289001465,
          15.881585121154785,
          12.579264640808105,
          11.913389205932617,
          14.127164840698242,
          16.583087921142578,
          17.30421257019043,
          16.50705337524414,
          15.4734468460083,
          14.794532775878906,
          13.918941497802734,
          12.057461738586426,
          9.194270133972168,
          6.3082275390625,
          4.7669501304626465,
          5.298808574676514,
          7.240254878997803,
          8.866814613342285,
          8.773330688476562,
          6.983575820922852,
          4.706191539764404,
          3.2114906311035156,
          2.9599063396453857,
          3.5435965061187744,
          4.207203388214111,
          4.406418800354004,
          4.051486015319824,
          3.4097414016723633,
          2.831397294998169,
          2.5014894008636475,
          2.3682494163513184,
          2.267000436782837,
          2.105811834335327,
          1.9381070137023926,
          1.871809959411621,
          1.927931785583496,
          1.998020052909851,
          1.93925940990448,
          1.7095905542373657,
          1.4151432514190674,
          1.2271040678024292,
          1.2398470640182495,
          1.3929282426834106,
          1.5270214080810547,
          1.5218862295150757,
          1.3883204460144043,
          1.2359809875488281,
          1.1639361381530762,
          1.1839685440063477,
          1.2352032661437988,
          1.2553400993347168,
          1.2330949306488037,
          1.2007108926773071,
          1.1885024309158325,
          1.1930701732635498,
          1.1885439157485962,
          1.1615674495697021,
          1.1281869411468506,
          1.115417718887329,
          1.1308937072753906,
          1.1540346145629883,
          1.157067894935608,
          1.1320950984954834,
          1.0970653295516968,
          1.0766066312789917,
          1.0786947011947632,
          1.0901422500610352,
          1.0928391218185425,
          1.081427812576294,
          1.0648555755615234,
          1.0534343719482422,
          1.048465371131897,
          1.0443235635757446,
          1.0374702215194702,
          1.0302631855010986,
          1.0261740684509277,
          1.0241689682006836,
          1.0196869373321533,
          1.0107256174087524,
          1.0007764101028442,
          0.9948002099990845,
          0.9934776425361633,
          0.99270099401474,
          0.9884763360023499,
          0.9811170697212219,
          0.9741446375846863,
          0.9699243307113647,
          0.9674760103225708,
          0.9644430875778198,
          0.9600717425346375,
          0.9554538130760193,
          0.9515184760093689,
          0.9478360414505005,
          0.9436393976211548,
          0.9391686916351318,
          0.9353213906288147,
          0.9322696328163147,
          0.9291278123855591,
          0.9250981211662292,
          0.9205386638641357,
          0.9164174795150757,
          0.9130873680114746,
          0.9099522233009338,
          0.9063711166381836,
          0.9023948907852173,
          0.8985051512718201,
          0.8949166536331177,
          0.8914170861244202,
          0.887811541557312,
          0.8841992616653442,
          0.8806987404823303,
          0.8772294521331787,
          0.8736395239830017,
          0.8699964284896851,
          0.8665043115615845,
          0.8631981611251831,
          0.8598862886428833,
          0.8564291000366211,
          0.8529096841812134,
          0.8494938015937805,
          0.8461995720863342,
          0.8429216742515564,
          0.8395957350730896,
          0.8362762928009033,
          0.8330082297325134,
          0.8297665119171143,
          0.8265236020088196,
          0.8232977986335754,
          0.8201208114624023,
          0.8169687390327454,
          0.8138018846511841,
          0.8106276988983154,
          0.8074901700019836,
          0.8044056296348572,
          0.8013396263122559,
          0.7982613444328308,
          0.795188307762146,
          0.792150616645813,
          0.7891413569450378,
          0.7861437201499939,
          0.7831591367721558,
          0.780195951461792,
          0.7772474884986877,
          0.7743100523948669,
          0.7713897228240967,
          0.7684914469718933,
          0.7656163573265076,
          0.7627518773078918,
          0.7598974704742432,
          0.7570645809173584,
          0.7542516589164734,
          0.7514585852622986,
          0.7486737966537476,
          0.7459059357643127,
          0.7431560158729553,
          0.7404221296310425,
          0.7377026677131653,
          0.7349995374679565,
          0.7323163747787476,
          0.729643702507019,
          0.7269869446754456,
          0.7243484258651733,
          0.7217248678207397,
          0.7191141843795776,
          0.7165205478668213,
          0.7139416337013245,
          0.7113755345344543,
          0.7088257670402527,
          0.7062919735908508,
          0.7037731409072876,
          0.70126873254776,
          0.6987766623497009,
          0.6963014006614685,
          0.6938397884368896,
          0.6913920044898987,
          0.6889589428901672,
          0.6865411400794983,
          0.6841378808021545,
          0.6817453503608704,
          0.6793701648712158,
          0.6770068407058716,
          0.6746602654457092,
          0.6723260283470154,
          0.6700061559677124,
          0.66769939661026,
          0.6654052138328552,
          0.6631253957748413,
          0.6608578562736511,
          0.6586045622825623,
          0.656366229057312,
          0.654137909412384,
          0.6519249081611633,
          0.6497256755828857,
          0.6475400328636169,
          0.6453641057014465,
          0.6432024836540222,
          0.6410532593727112,
          0.6389170289039612,
          0.6367937326431274,
          0.6346821188926697,
          0.6325830221176147,
          0.6304969191551208,
          0.6284227967262268,
          0.6263619661331177,
          0.6243131756782532,
          0.6222757697105408,
          0.6202514171600342,
          0.6182384490966797,
          0.6162363886833191,
          0.6142452955245972,
          0.6122677326202393,
          0.6103023290634155,
          0.6083465218544006,
          0.6064026951789856,
          0.6044711470603943,
          0.6025501489639282,
          0.6006417870521545,
          0.5987442135810852,
          0.5968565344810486,
          0.5949791073799133,
          0.5931144952774048,
          0.5912598967552185,
          0.5894165635108948,
          0.5875831246376038,
          0.585760772228241,
          0.5839499831199646,
          0.5821484327316284,
          0.5803579092025757,
          0.5785772800445557,
          0.5768064856529236,
          0.5750454068183899,
          0.5732951760292053,
          0.571556031703949,
          0.5698270201683044,
          0.5681039094924927,
          0.5663942098617554,
          0.5646937489509583,
          0.5630021095275879,
          0.56131911277771,
          0.559646725654602,
          0.5579840540885925
         ],
         "yaxis": "y"
        },
        {
         "hovertemplate": "variable=Differential loss<br>index=%{x}<br>value=%{y}<extra></extra>",
         "legendgroup": "Differential loss",
         "line": {
          "color": "#00cc96",
          "dash": "solid"
         },
         "marker": {
          "symbol": "circle"
         },
         "mode": "lines",
         "name": "Differential loss",
         "orientation": "v",
         "showlegend": true,
         "type": "scatter",
         "x": [
          0,
          1,
          2,
          3,
          4,
          5,
          6,
          7,
          8,
          9,
          10,
          11,
          12,
          13,
          14,
          15,
          16,
          17,
          18,
          19,
          20,
          21,
          22,
          23,
          24,
          25,
          26,
          27,
          28,
          29,
          30,
          31,
          32,
          33,
          34,
          35,
          36,
          37,
          38,
          39,
          40,
          41,
          42,
          43,
          44,
          45,
          46,
          47,
          48,
          49,
          50,
          51,
          52,
          53,
          54,
          55,
          56,
          57,
          58,
          59,
          60,
          61,
          62,
          63,
          64,
          65,
          66,
          67,
          68,
          69,
          70,
          71,
          72,
          73,
          74,
          75,
          76,
          77,
          78,
          79,
          80,
          81,
          82,
          83,
          84,
          85,
          86,
          87,
          88,
          89,
          90,
          91,
          92,
          93,
          94,
          95,
          96,
          97,
          98,
          99,
          100,
          101,
          102,
          103,
          104,
          105,
          106,
          107,
          108,
          109,
          110,
          111,
          112,
          113,
          114,
          115,
          116,
          117,
          118,
          119,
          120,
          121,
          122,
          123,
          124,
          125,
          126,
          127,
          128,
          129,
          130,
          131,
          132,
          133,
          134,
          135,
          136,
          137,
          138,
          139,
          140,
          141,
          142,
          143,
          144,
          145,
          146,
          147,
          148,
          149,
          150,
          151,
          152,
          153,
          154,
          155,
          156,
          157,
          158,
          159,
          160,
          161,
          162,
          163,
          164,
          165,
          166,
          167,
          168,
          169,
          170,
          171,
          172,
          173,
          174,
          175,
          176,
          177,
          178,
          179,
          180,
          181,
          182,
          183,
          184,
          185,
          186,
          187,
          188,
          189,
          190,
          191,
          192,
          193,
          194,
          195,
          196,
          197,
          198,
          199,
          200,
          201,
          202,
          203,
          204,
          205,
          206,
          207,
          208,
          209,
          210,
          211,
          212,
          213,
          214,
          215,
          216,
          217,
          218,
          219,
          220,
          221,
          222,
          223,
          224,
          225,
          226,
          227,
          228,
          229,
          230,
          231,
          232,
          233,
          234,
          235,
          236,
          237,
          238,
          239,
          240,
          241,
          242,
          243,
          244,
          245,
          246,
          247,
          248,
          249
         ],
         "xaxis": "x",
         "y": [
          2403.01806640625,
          1590.6640625,
          933.2615356445312,
          468.4256896972656,
          188.92723083496094,
          55.072486877441406,
          11.23376750946045,
          7.944005012512207,
          14.427950859069824,
          17.555644989013672,
          15.597482681274414,
          12.354436874389648,
          11.740762710571289,
          13.993861198425293,
          16.474864959716797,
          17.20907211303711,
          16.41658592224121,
          15.382878303527832,
          14.702383041381836,
          13.826187133789062,
          11.966039657592773,
          9.105490684509277,
          6.221889019012451,
          4.681555271148682,
          5.21274471282959,
          7.153227806091309,
          8.780450820922852,
          8.690350532531738,
          6.9061713218688965,
          4.634888648986816,
          3.1451659202575684,
          2.896684169769287,
          3.4818713665008545,
          4.146187782287598,
          4.346091270446777,
          3.9921913146972656,
          3.3517799377441406,
          2.7748303413391113,
          2.4461867809295654,
          2.314061403274536,
          2.2138895988464355,
          2.0538487434387207,
          1.8873708248138428,
          1.822288155555725,
          1.8794851303100586,
          1.9504019021987915,
          1.8921407461166382,
          1.6625738143920898,
          1.3677940368652344,
          1.1790395975112915,
          1.1908726692199707,
          1.343151569366455,
          1.4768614768981934,
          1.4719527959823608,
          1.339220643043518,
          1.1881554126739502,
          1.1175868511199951,
          1.139078974723816,
          1.1916011571884155,
          1.2127612829208374,
          1.1912400722503662,
          1.159300446510315,
          1.1473338603973389,
          1.1520583629608154,
          1.1477233171463013,
          1.1210567951202393,
          1.0881367921829224,
          1.0759724378585815,
          1.0921739339828491,
          1.1161376237869263,
          1.1200659275054932,
          1.0960309505462646,
          1.0619523525238037,
          1.0424387454986572,
          1.045462965965271,
          1.0578445196151733,
          1.061474084854126,
          1.050978422164917,
          1.0352751016616821,
          1.0246485471725464,
          1.0203888416290283,
          1.0168814659118652,
          1.0106168985366821,
          1.0039923191070557,
          1.0005173683166504,
          0.9991868138313293,
          0.9954501986503601,
          0.9872929453849792,
          0.9781753420829773,
          0.9730179905891418,
          0.9724655151367188,
          0.9723871946334839,
          0.9687826037406921,
          0.9619746208190918,
          0.9555057287216187,
          0.9517679214477539,
          0.9498056173324585,
          0.9472781419754028,
          0.9434351921081543,
          0.9393610954284668,
          0.9359714388847351,
          0.9328215718269348,
          0.9291335940361023,
          0.9251424670219421,
          0.9217467308044434,
          0.9191238284111023,
          0.9163945317268372,
          0.91276615858078,
          0.9085986018180847,
          0.9048593640327454,
          0.9018999338150024,
          0.8991236686706543,
          0.8958905935287476,
          0.8922538757324219,
          0.8886977434158325,
          0.8854386210441589,
          0.882264256477356,
          0.87897789478302,
          0.8756750226020813,
          0.8724706768989563,
          0.8692821264266968,
          0.8659576177597046,
          0.8625672459602356,
          0.8593190908432007,
          0.8562520742416382,
          0.8531774282455444,
          0.8499560356140137,
          0.8466696739196777,
          0.8434814214706421,
          0.840406596660614,
          0.8373382687568665,
          0.8342116475105286,
          0.8310825228691101,
          0.8279975056648254,
          0.8249334096908569,
          0.8218638300895691,
          0.8188074827194214,
          0.8157957196235657,
          0.8128039240837097,
          0.8097918629646301,
          0.8067669868469238,
          0.8037734031677246,
          0.8008278608322144,
          0.7978963255882263,
          0.7949479818344116,
          0.7920003533363342,
          0.7890833020210266,
          0.7861899733543396,
          0.7833038568496704,
          0.7804267406463623,
          0.7775675654411316,
          0.7747199535369873,
          0.7718803882598877,
          0.7690548300743103,
          0.7662478089332581,
          0.7634602785110474,
          0.7606796026229858,
          0.7579053640365601,
          0.7551494836807251,
          0.7524107694625854,
          0.7496894598007202,
          0.7469741106033325,
          0.74427330493927,
          0.7415879964828491,
          0.7389161586761475,
          0.7362562417984009,
          0.733610212802887,
          0.7309818863868713,
          0.728361964225769,
          0.7257559895515442,
          0.7231663465499878,
          0.7205897569656372,
          0.7180242538452148,
          0.715474009513855,
          0.7129368185997009,
          0.7104108333587646,
          0.7078996300697327,
          0.7054029703140259,
          0.7029198408126831,
          0.7004496455192566,
          0.6979904174804688,
          0.6955466270446777,
          0.6931152939796448,
          0.6906965970993042,
          0.6882915496826172,
          0.6859006881713867,
          0.6835232973098755,
          0.6811556220054626,
          0.6788042783737183,
          0.6764638423919678,
          0.6741392016410828,
          0.6718260049819946,
          0.6695263981819153,
          0.6672390699386597,
          0.6649636030197144,
          0.6627017259597778,
          0.6604514122009277,
          0.6582146883010864,
          0.6559922099113464,
          0.6537790894508362,
          0.6515807509422302,
          0.6493955254554749,
          0.6472233533859253,
          0.6450603604316711,
          0.6429111361503601,
          0.6407738327980042,
          0.638649046421051,
          0.636536717414856,
          0.6344355940818787,
          0.6323466300964355,
          0.63027024269104,
          0.6282053589820862,
          0.6261534690856934,
          0.6241132020950317,
          0.6220840215682983,
          0.6200675368309021,
          0.6180621385574341,
          0.6160673499107361,
          0.6140831708908081,
          0.612112283706665,
          0.6101532578468323,
          0.6082035899162292,
          0.606265664100647,
          0.6043397784233093,
          0.602424144744873,
          0.6005209684371948,
          0.5986284017562866,
          0.596745491027832,
          0.5948726534843445,
          0.5930124521255493,
          0.5911620259284973,
          0.5893227458000183,
          0.5874931812286377,
          0.585674524307251,
          0.5838673114776611,
          0.5820691585540771,
          0.5802819132804871,
          0.5785044431686401,
          0.5767366290092468,
          0.5749784111976624,
          0.5732309818267822,
          0.571494460105896,
          0.5697680115699768,
          0.5680473446846008,
          0.5663399696350098,
          0.5646417737007141,
          0.5629522800445557,
          0.5612713098526001,
          0.5596008896827698,
          0.5579401254653931
         ],
         "yaxis": "y"
        }
       ],
       "layout": {
        "legend": {
         "title": {
          "text": "variable"
         },
         "tracegroupgap": 0
        },
        "margin": {
         "t": 60
        },
        "template": {
         "data": {
          "bar": [
           {
            "error_x": {
             "color": "#2a3f5f"
            },
            "error_y": {
             "color": "#2a3f5f"
            },
            "marker": {
             "line": {
              "color": "#E5ECF6",
              "width": 0.5
             },
             "pattern": {
              "fillmode": "overlay",
              "size": 10,
              "solidity": 0.2
             }
            },
            "type": "bar"
           }
          ],
          "barpolar": [
           {
            "marker": {
             "line": {
              "color": "#E5ECF6",
              "width": 0.5
             },
             "pattern": {
              "fillmode": "overlay",
              "size": 10,
              "solidity": 0.2
             }
            },
            "type": "barpolar"
           }
          ],
          "carpet": [
           {
            "aaxis": {
             "endlinecolor": "#2a3f5f",
             "gridcolor": "white",
             "linecolor": "white",
             "minorgridcolor": "white",
             "startlinecolor": "#2a3f5f"
            },
            "baxis": {
             "endlinecolor": "#2a3f5f",
             "gridcolor": "white",
             "linecolor": "white",
             "minorgridcolor": "white",
             "startlinecolor": "#2a3f5f"
            },
            "type": "carpet"
           }
          ],
          "choropleth": [
           {
            "colorbar": {
             "outlinewidth": 0,
             "ticks": ""
            },
            "type": "choropleth"
           }
          ],
          "contour": [
           {
            "colorbar": {
             "outlinewidth": 0,
             "ticks": ""
            },
            "colorscale": [
             [
              0,
              "#0d0887"
             ],
             [
              0.1111111111111111,
              "#46039f"
             ],
             [
              0.2222222222222222,
              "#7201a8"
             ],
             [
              0.3333333333333333,
              "#9c179e"
             ],
             [
              0.4444444444444444,
              "#bd3786"
             ],
             [
              0.5555555555555556,
              "#d8576b"
             ],
             [
              0.6666666666666666,
              "#ed7953"
             ],
             [
              0.7777777777777778,
              "#fb9f3a"
             ],
             [
              0.8888888888888888,
              "#fdca26"
             ],
             [
              1,
              "#f0f921"
             ]
            ],
            "type": "contour"
           }
          ],
          "contourcarpet": [
           {
            "colorbar": {
             "outlinewidth": 0,
             "ticks": ""
            },
            "type": "contourcarpet"
           }
          ],
          "heatmap": [
           {
            "colorbar": {
             "outlinewidth": 0,
             "ticks": ""
            },
            "colorscale": [
             [
              0,
              "#0d0887"
             ],
             [
              0.1111111111111111,
              "#46039f"
             ],
             [
              0.2222222222222222,
              "#7201a8"
             ],
             [
              0.3333333333333333,
              "#9c179e"
             ],
             [
              0.4444444444444444,
              "#bd3786"
             ],
             [
              0.5555555555555556,
              "#d8576b"
             ],
             [
              0.6666666666666666,
              "#ed7953"
             ],
             [
              0.7777777777777778,
              "#fb9f3a"
             ],
             [
              0.8888888888888888,
              "#fdca26"
             ],
             [
              1,
              "#f0f921"
             ]
            ],
            "type": "heatmap"
           }
          ],
          "heatmapgl": [
           {
            "colorbar": {
             "outlinewidth": 0,
             "ticks": ""
            },
            "colorscale": [
             [
              0,
              "#0d0887"
             ],
             [
              0.1111111111111111,
              "#46039f"
             ],
             [
              0.2222222222222222,
              "#7201a8"
             ],
             [
              0.3333333333333333,
              "#9c179e"
             ],
             [
              0.4444444444444444,
              "#bd3786"
             ],
             [
              0.5555555555555556,
              "#d8576b"
             ],
             [
              0.6666666666666666,
              "#ed7953"
             ],
             [
              0.7777777777777778,
              "#fb9f3a"
             ],
             [
              0.8888888888888888,
              "#fdca26"
             ],
             [
              1,
              "#f0f921"
             ]
            ],
            "type": "heatmapgl"
           }
          ],
          "histogram": [
           {
            "marker": {
             "pattern": {
              "fillmode": "overlay",
              "size": 10,
              "solidity": 0.2
             }
            },
            "type": "histogram"
           }
          ],
          "histogram2d": [
           {
            "colorbar": {
             "outlinewidth": 0,
             "ticks": ""
            },
            "colorscale": [
             [
              0,
              "#0d0887"
             ],
             [
              0.1111111111111111,
              "#46039f"
             ],
             [
              0.2222222222222222,
              "#7201a8"
             ],
             [
              0.3333333333333333,
              "#9c179e"
             ],
             [
              0.4444444444444444,
              "#bd3786"
             ],
             [
              0.5555555555555556,
              "#d8576b"
             ],
             [
              0.6666666666666666,
              "#ed7953"
             ],
             [
              0.7777777777777778,
              "#fb9f3a"
             ],
             [
              0.8888888888888888,
              "#fdca26"
             ],
             [
              1,
              "#f0f921"
             ]
            ],
            "type": "histogram2d"
           }
          ],
          "histogram2dcontour": [
           {
            "colorbar": {
             "outlinewidth": 0,
             "ticks": ""
            },
            "colorscale": [
             [
              0,
              "#0d0887"
             ],
             [
              0.1111111111111111,
              "#46039f"
             ],
             [
              0.2222222222222222,
              "#7201a8"
             ],
             [
              0.3333333333333333,
              "#9c179e"
             ],
             [
              0.4444444444444444,
              "#bd3786"
             ],
             [
              0.5555555555555556,
              "#d8576b"
             ],
             [
              0.6666666666666666,
              "#ed7953"
             ],
             [
              0.7777777777777778,
              "#fb9f3a"
             ],
             [
              0.8888888888888888,
              "#fdca26"
             ],
             [
              1,
              "#f0f921"
             ]
            ],
            "type": "histogram2dcontour"
           }
          ],
          "mesh3d": [
           {
            "colorbar": {
             "outlinewidth": 0,
             "ticks": ""
            },
            "type": "mesh3d"
           }
          ],
          "parcoords": [
           {
            "line": {
             "colorbar": {
              "outlinewidth": 0,
              "ticks": ""
             }
            },
            "type": "parcoords"
           }
          ],
          "pie": [
           {
            "automargin": true,
            "type": "pie"
           }
          ],
          "scatter": [
           {
            "fillpattern": {
             "fillmode": "overlay",
             "size": 10,
             "solidity": 0.2
            },
            "type": "scatter"
           }
          ],
          "scatter3d": [
           {
            "line": {
             "colorbar": {
              "outlinewidth": 0,
              "ticks": ""
             }
            },
            "marker": {
             "colorbar": {
              "outlinewidth": 0,
              "ticks": ""
             }
            },
            "type": "scatter3d"
           }
          ],
          "scattercarpet": [
           {
            "marker": {
             "colorbar": {
              "outlinewidth": 0,
              "ticks": ""
             }
            },
            "type": "scattercarpet"
           }
          ],
          "scattergeo": [
           {
            "marker": {
             "colorbar": {
              "outlinewidth": 0,
              "ticks": ""
             }
            },
            "type": "scattergeo"
           }
          ],
          "scattergl": [
           {
            "marker": {
             "colorbar": {
              "outlinewidth": 0,
              "ticks": ""
             }
            },
            "type": "scattergl"
           }
          ],
          "scattermapbox": [
           {
            "marker": {
             "colorbar": {
              "outlinewidth": 0,
              "ticks": ""
             }
            },
            "type": "scattermapbox"
           }
          ],
          "scatterpolar": [
           {
            "marker": {
             "colorbar": {
              "outlinewidth": 0,
              "ticks": ""
             }
            },
            "type": "scatterpolar"
           }
          ],
          "scatterpolargl": [
           {
            "marker": {
             "colorbar": {
              "outlinewidth": 0,
              "ticks": ""
             }
            },
            "type": "scatterpolargl"
           }
          ],
          "scatterternary": [
           {
            "marker": {
             "colorbar": {
              "outlinewidth": 0,
              "ticks": ""
             }
            },
            "type": "scatterternary"
           }
          ],
          "surface": [
           {
            "colorbar": {
             "outlinewidth": 0,
             "ticks": ""
            },
            "colorscale": [
             [
              0,
              "#0d0887"
             ],
             [
              0.1111111111111111,
              "#46039f"
             ],
             [
              0.2222222222222222,
              "#7201a8"
             ],
             [
              0.3333333333333333,
              "#9c179e"
             ],
             [
              0.4444444444444444,
              "#bd3786"
             ],
             [
              0.5555555555555556,
              "#d8576b"
             ],
             [
              0.6666666666666666,
              "#ed7953"
             ],
             [
              0.7777777777777778,
              "#fb9f3a"
             ],
             [
              0.8888888888888888,
              "#fdca26"
             ],
             [
              1,
              "#f0f921"
             ]
            ],
            "type": "surface"
           }
          ],
          "table": [
           {
            "cells": {
             "fill": {
              "color": "#EBF0F8"
             },
             "line": {
              "color": "white"
             }
            },
            "header": {
             "fill": {
              "color": "#C8D4E3"
             },
             "line": {
              "color": "white"
             }
            },
            "type": "table"
           }
          ]
         },
         "layout": {
          "annotationdefaults": {
           "arrowcolor": "#2a3f5f",
           "arrowhead": 0,
           "arrowwidth": 1
          },
          "autotypenumbers": "strict",
          "coloraxis": {
           "colorbar": {
            "outlinewidth": 0,
            "ticks": ""
           }
          },
          "colorscale": {
           "diverging": [
            [
             0,
             "#8e0152"
            ],
            [
             0.1,
             "#c51b7d"
            ],
            [
             0.2,
             "#de77ae"
            ],
            [
             0.3,
             "#f1b6da"
            ],
            [
             0.4,
             "#fde0ef"
            ],
            [
             0.5,
             "#f7f7f7"
            ],
            [
             0.6,
             "#e6f5d0"
            ],
            [
             0.7,
             "#b8e186"
            ],
            [
             0.8,
             "#7fbc41"
            ],
            [
             0.9,
             "#4d9221"
            ],
            [
             1,
             "#276419"
            ]
           ],
           "sequential": [
            [
             0,
             "#0d0887"
            ],
            [
             0.1111111111111111,
             "#46039f"
            ],
            [
             0.2222222222222222,
             "#7201a8"
            ],
            [
             0.3333333333333333,
             "#9c179e"
            ],
            [
             0.4444444444444444,
             "#bd3786"
            ],
            [
             0.5555555555555556,
             "#d8576b"
            ],
            [
             0.6666666666666666,
             "#ed7953"
            ],
            [
             0.7777777777777778,
             "#fb9f3a"
            ],
            [
             0.8888888888888888,
             "#fdca26"
            ],
            [
             1,
             "#f0f921"
            ]
           ],
           "sequentialminus": [
            [
             0,
             "#0d0887"
            ],
            [
             0.1111111111111111,
             "#46039f"
            ],
            [
             0.2222222222222222,
             "#7201a8"
            ],
            [
             0.3333333333333333,
             "#9c179e"
            ],
            [
             0.4444444444444444,
             "#bd3786"
            ],
            [
             0.5555555555555556,
             "#d8576b"
            ],
            [
             0.6666666666666666,
             "#ed7953"
            ],
            [
             0.7777777777777778,
             "#fb9f3a"
            ],
            [
             0.8888888888888888,
             "#fdca26"
            ],
            [
             1,
             "#f0f921"
            ]
           ]
          },
          "colorway": [
           "#636efa",
           "#EF553B",
           "#00cc96",
           "#ab63fa",
           "#FFA15A",
           "#19d3f3",
           "#FF6692",
           "#B6E880",
           "#FF97FF",
           "#FECB52"
          ],
          "font": {
           "color": "#2a3f5f"
          },
          "geo": {
           "bgcolor": "white",
           "lakecolor": "white",
           "landcolor": "#E5ECF6",
           "showlakes": true,
           "showland": true,
           "subunitcolor": "white"
          },
          "hoverlabel": {
           "align": "left"
          },
          "hovermode": "closest",
          "mapbox": {
           "style": "light"
          },
          "paper_bgcolor": "white",
          "plot_bgcolor": "#E5ECF6",
          "polar": {
           "angularaxis": {
            "gridcolor": "white",
            "linecolor": "white",
            "ticks": ""
           },
           "bgcolor": "#E5ECF6",
           "radialaxis": {
            "gridcolor": "white",
            "linecolor": "white",
            "ticks": ""
           }
          },
          "scene": {
           "xaxis": {
            "backgroundcolor": "#E5ECF6",
            "gridcolor": "white",
            "gridwidth": 2,
            "linecolor": "white",
            "showbackground": true,
            "ticks": "",
            "zerolinecolor": "white"
           },
           "yaxis": {
            "backgroundcolor": "#E5ECF6",
            "gridcolor": "white",
            "gridwidth": 2,
            "linecolor": "white",
            "showbackground": true,
            "ticks": "",
            "zerolinecolor": "white"
           },
           "zaxis": {
            "backgroundcolor": "#E5ECF6",
            "gridcolor": "white",
            "gridwidth": 2,
            "linecolor": "white",
            "showbackground": true,
            "ticks": "",
            "zerolinecolor": "white"
           }
          },
          "shapedefaults": {
           "line": {
            "color": "#2a3f5f"
           }
          },
          "ternary": {
           "aaxis": {
            "gridcolor": "white",
            "linecolor": "white",
            "ticks": ""
           },
           "baxis": {
            "gridcolor": "white",
            "linecolor": "white",
            "ticks": ""
           },
           "bgcolor": "#E5ECF6",
           "caxis": {
            "gridcolor": "white",
            "linecolor": "white",
            "ticks": ""
           }
          },
          "title": {
           "x": 0.05
          },
          "xaxis": {
           "automargin": true,
           "gridcolor": "white",
           "linecolor": "white",
           "ticks": "",
           "title": {
            "standoff": 15
           },
           "zerolinecolor": "white",
           "zerolinewidth": 2
          },
          "yaxis": {
           "automargin": true,
           "gridcolor": "white",
           "linecolor": "white",
           "ticks": "",
           "title": {
            "standoff": 15
           },
           "zerolinecolor": "white",
           "zerolinewidth": 2
          }
         }
        },
        "xaxis": {
         "anchor": "y",
         "domain": [
          0,
          1
         ],
         "title": {
          "text": "index"
         }
        },
        "yaxis": {
         "anchor": "x",
         "domain": [
          0,
          1
         ],
         "title": {
          "text": "value"
         },
         "type": "log"
        }
       }
      },
      "text/html": [
       "<div>                            <div id=\"4c029518-38ea-4ee4-b159-9fee980729fa\" class=\"plotly-graph-div\" style=\"height:525px; width:100%;\"></div>            <script type=\"text/javascript\">                require([\"plotly\"], function(Plotly) {                    window.PLOTLYENV=window.PLOTLYENV || {};                                    if (document.getElementById(\"4c029518-38ea-4ee4-b159-9fee980729fa\")) {                    Plotly.newPlot(                        \"4c029518-38ea-4ee4-b159-9fee980729fa\",                        [{\"hovertemplate\":\"variable=Quality loss<br>index=%{x}<br>value=%{y}<extra></extra>\",\"legendgroup\":\"Quality loss\",\"line\":{\"color\":\"#636efa\",\"dash\":\"solid\"},\"marker\":{\"symbol\":\"circle\"},\"mode\":\"lines\",\"name\":\"Quality loss\",\"orientation\":\"v\",\"showlegend\":true,\"x\":[0,1,2,3,4,5,6,7,8,9,10,11,12,13,14,15,16,17,18,19,20,21,22,23,24,25,26,27,28,29,30,31,32,33,34,35,36,37,38,39,40,41,42,43,44,45,46,47,48,49,50,51,52,53,54,55,56,57,58,59,60,61,62,63,64,65,66,67,68,69,70,71,72,73,74,75,76,77,78,79,80,81,82,83,84,85,86,87,88,89,90,91,92,93,94,95,96,97,98,99,100,101,102,103,104,105,106,107,108,109,110,111,112,113,114,115,116,117,118,119,120,121,122,123,124,125,126,127,128,129,130,131,132,133,134,135,136,137,138,139,140,141,142,143,144,145,146,147,148,149,150,151,152,153,154,155,156,157,158,159,160,161,162,163,164,165,166,167,168,169,170,171,172,173,174,175,176,177,178,179,180,181,182,183,184,185,186,187,188,189,190,191,192,193,194,195,196,197,198,199,200,201,202,203,204,205,206,207,208,209,210,211,212,213,214,215,216,217,218,219,220,221,222,223,224,225,226,227,228,229,230,231,232,233,234,235,236,237,238,239,240,241,242,243,244,245,246,247,248,249],\"xaxis\":\"x\",\"y\":[0.5547968363609492,0.47514670673558995,0.4332845113047232,0.4048465912482653,0.371076759391456,0.3317413718479456,0.2928504778190375,0.25631200415443467,0.21950908898623622,0.180486123060173,0.14136594926437426,0.1071895104216369,0.08217951011152609,0.06720501317200869,0.060453677149207546,0.05918822574693307,0.060774900673130634,0.06298346996382154,0.06425416208649906,0.06402869506945667,0.06275134089260187,0.061416918707022344,0.06089771671365352,0.06136047520473094,0.06209814571931387,0.06199578440913296,0.06036794652809324,0.057457450832148566,0.054193588857650236,0.05153262833059061,0.049930224337170974,0.04924240570204864,0.04899227514937035,0.04872741752777628,0.04823698942389946,0.0475610428096316,0.04685858627496686,0.0462518646396863,0.04574583289568228,0.045256141694732126,0.044698619276929336,0.04405544719544476,0.043378780081415755,0.04275113585128725,0.042254919209722804,0.04197080262745266,0.04198185138959943,0.0423498903037669,0.04306045639849167,0.04397606609208724,0.04485018726840566,0.04541503104182943,0.04549533731179639,0.04507809473544894,0.04429603894857657,0.04335203625572759,0.042438339682090126,0.0416931308187382,0.04119649819208938,0.04097635635899625,0.04101004563252504,0.04122375929730808,0.04150649775225489,0.04174503524120585,0.041860296183287404,0.04182565022893867,0.0416561322246651,0.041386123362477226,0.0410492361650645,0.04067491726655163,0.04028909462211554,0.03991035706256071,0.03954202195904802,0.0391695426264597,0.03877062690390531,0.03833522963018751,0.03787835393464018,0.037439610731512564,0.03706173269684277,0.036773042650998684,0.036574503973251564,0.03643959430503593,0.03632178610603124,0.03616763245686915,0.03592994874904569,0.03558319353578846,0.035132950592219145,0.03461538465056401,0.034084643674905594,0.033594536441894765,0.0331838013229516,0.03286797058104633,0.0326381201299764,0.032465178260199484,0.03230815908784529,0.032127044255943114,0.03189401498288695,0.03160197277345603,0.03126344771991664,0.030903327391276537,0.030549120141001706,0.030221322137548884,0.02992917376451022,0.029668926658462314,0.02942855487425628,0.02919396248756666,0.028954620827214905,0.02870824013757718,0.028459718752190635,0.02821609977696342,0.027982517483279713,0.027759131468559396,0.027540564435990223,0.027318507631644607,0.027085597784562623,0.026838687456729144,0.02658080345279826,0.02632186031192528,0.026073438603242915,0.02584486125505853,0.025639356033127187,0.025452024591016306,0.025272157807898134,0.02508729121642656,0.024887386029523798,0.024669195601271125,0.02443676364850042,0.02419934643067028,0.02396751176441195,0.02374863162130834,0.023545266199453498,0.023353747928521084,0.023167393208434937,0.022979345857496076,0.022785035464339302,0.022583961230933,0.02237875326537723,0.022173565909091638,0.02197196467097649,0.021774629871384982,0.021580797051665893,0.021388101460010155,0.021194598212172653,0.020999878040367785,0.02080575136786118,0.020614433372263284,0.0204280224908159,0.02024608790234224,0.02006702445233667,0.01988775361836567,0.019706035787178607,0.01952109874958999,0.01933402304825964,0.019148028472398743,0.018965795296437875,0.018789330113795865,0.01861854292848442,0.018451316188562602,0.01828472236064438,0.018117073906253625,0.017947343868322946,0.017776599575502112,0.017606959117904213,0.017439868448062758,0.01727646255103576,0.017116245648427637,0.016958301131469025,0.016801321238609418,0.016644586884996652,0.01648860953782789,0.016334064171381057,0.016181179920991325,0.016030597736915193,0.01588168581267341,0.015733950773395188,0.015586492121714994,0.015439736912639546,0.01529423008643081,0.015150594822612225,0.015009193939626657,0.014870343178492992,0.014733129582965932,0.014596498448802404,0.014460307599839857,0.014324402196547618,0.014189279216621614,0.014055533588754342,0.013923818689049074,0.013794232867438208,0.013666258726610198,0.013539296116985377,0.01341304940768028,0.01328723764981224,0.013162510243286867,0.013038868315488249,0.01291682538776619,0.01279629582724213,0.012676802286713711,0.012558277346467295,0.012440523481524489,0.012323859804465476,0.012208373291454107,0.012094174038409367,0.011981399410624958,0.011869521267718546,0.011758744459734903,0.011648609740042637,0.011539194471026575,0.011430861994442819,0.011323908256959187,0.011218286498913637,0.01111390319882509,0.011010377918606545,0.010907660589273836,0.010805700255502948,0.010704604848422774,0.010604547608012002,0.010505763640293717,0.010408344605682528,0.010311616734352222,0.010215785084703157,0.010120696750795372,0.010026664623704364,0.009933604723082001,0.009841652783947389,0.009750610046474066,0.00966030073895809,0.00957095589766921,0.009482486421230504,0.009394916011282896,0.009308441414691478,0.009222837810615534,0.009137879259649198,0.009054112082040886,0.0089709088497087,0.008888719355870127,0.008807133005263807,0.008726585649725074,0.008646959099544844,0.008568119555412604,0.00849010744496751,0.008412973621254571,0.008336361109546971,0.008260627499645888,0.008185760669793103,0.008111648576554551,0.008038331826878353,0.007965961394428456,0.007894088983270191,0.00782311569515843],\"yaxis\":\"y\",\"type\":\"scatter\"},{\"hovertemplate\":\"variable=Total loss<br>index=%{x}<br>value=%{y}<extra></extra>\",\"legendgroup\":\"Total loss\",\"line\":{\"color\":\"#EF553B\",\"dash\":\"solid\"},\"marker\":{\"symbol\":\"circle\"},\"mode\":\"lines\",\"name\":\"Total loss\",\"orientation\":\"v\",\"showlegend\":true,\"x\":[0,1,2,3,4,5,6,7,8,9,10,11,12,13,14,15,16,17,18,19,20,21,22,23,24,25,26,27,28,29,30,31,32,33,34,35,36,37,38,39,40,41,42,43,44,45,46,47,48,49,50,51,52,53,54,55,56,57,58,59,60,61,62,63,64,65,66,67,68,69,70,71,72,73,74,75,76,77,78,79,80,81,82,83,84,85,86,87,88,89,90,91,92,93,94,95,96,97,98,99,100,101,102,103,104,105,106,107,108,109,110,111,112,113,114,115,116,117,118,119,120,121,122,123,124,125,126,127,128,129,130,131,132,133,134,135,136,137,138,139,140,141,142,143,144,145,146,147,148,149,150,151,152,153,154,155,156,157,158,159,160,161,162,163,164,165,166,167,168,169,170,171,172,173,174,175,176,177,178,179,180,181,182,183,184,185,186,187,188,189,190,191,192,193,194,195,196,197,198,199,200,201,202,203,204,205,206,207,208,209,210,211,212,213,214,215,216,217,218,219,220,221,222,223,224,225,226,227,228,229,230,231,232,233,234,235,236,237,238,239,240,241,242,243,244,245,246,247,248,249],\"xaxis\":\"x\",\"y\":[2404.3525390625,1591.7928466796875,934.2188110351562,469.262939453125,189.664306640625,55.710296630859375,11.778851509094238,8.411300659179688,14.830976486206055,17.89960289001465,15.881585121154785,12.579264640808105,11.913389205932617,14.127164840698242,16.583087921142578,17.30421257019043,16.50705337524414,15.4734468460083,14.794532775878906,13.918941497802734,12.057461738586426,9.194270133972168,6.3082275390625,4.7669501304626465,5.298808574676514,7.240254878997803,8.866814613342285,8.773330688476562,6.983575820922852,4.706191539764404,3.2114906311035156,2.9599063396453857,3.5435965061187744,4.207203388214111,4.406418800354004,4.051486015319824,3.4097414016723633,2.831397294998169,2.5014894008636475,2.3682494163513184,2.267000436782837,2.105811834335327,1.9381070137023926,1.871809959411621,1.927931785583496,1.998020052909851,1.93925940990448,1.7095905542373657,1.4151432514190674,1.2271040678024292,1.2398470640182495,1.3929282426834106,1.5270214080810547,1.5218862295150757,1.3883204460144043,1.2359809875488281,1.1639361381530762,1.1839685440063477,1.2352032661437988,1.2553400993347168,1.2330949306488037,1.2007108926773071,1.1885024309158325,1.1930701732635498,1.1885439157485962,1.1615674495697021,1.1281869411468506,1.115417718887329,1.1308937072753906,1.1540346145629883,1.157067894935608,1.1320950984954834,1.0970653295516968,1.0766066312789917,1.0786947011947632,1.0901422500610352,1.0928391218185425,1.081427812576294,1.0648555755615234,1.0534343719482422,1.048465371131897,1.0443235635757446,1.0374702215194702,1.0302631855010986,1.0261740684509277,1.0241689682006836,1.0196869373321533,1.0107256174087524,1.0007764101028442,0.9948002099990845,0.9934776425361633,0.99270099401474,0.9884763360023499,0.9811170697212219,0.9741446375846863,0.9699243307113647,0.9674760103225708,0.9644430875778198,0.9600717425346375,0.9554538130760193,0.9515184760093689,0.9478360414505005,0.9436393976211548,0.9391686916351318,0.9353213906288147,0.9322696328163147,0.9291278123855591,0.9250981211662292,0.9205386638641357,0.9164174795150757,0.9130873680114746,0.9099522233009338,0.9063711166381836,0.9023948907852173,0.8985051512718201,0.8949166536331177,0.8914170861244202,0.887811541557312,0.8841992616653442,0.8806987404823303,0.8772294521331787,0.8736395239830017,0.8699964284896851,0.8665043115615845,0.8631981611251831,0.8598862886428833,0.8564291000366211,0.8529096841812134,0.8494938015937805,0.8461995720863342,0.8429216742515564,0.8395957350730896,0.8362762928009033,0.8330082297325134,0.8297665119171143,0.8265236020088196,0.8232977986335754,0.8201208114624023,0.8169687390327454,0.8138018846511841,0.8106276988983154,0.8074901700019836,0.8044056296348572,0.8013396263122559,0.7982613444328308,0.795188307762146,0.792150616645813,0.7891413569450378,0.7861437201499939,0.7831591367721558,0.780195951461792,0.7772474884986877,0.7743100523948669,0.7713897228240967,0.7684914469718933,0.7656163573265076,0.7627518773078918,0.7598974704742432,0.7570645809173584,0.7542516589164734,0.7514585852622986,0.7486737966537476,0.7459059357643127,0.7431560158729553,0.7404221296310425,0.7377026677131653,0.7349995374679565,0.7323163747787476,0.729643702507019,0.7269869446754456,0.7243484258651733,0.7217248678207397,0.7191141843795776,0.7165205478668213,0.7139416337013245,0.7113755345344543,0.7088257670402527,0.7062919735908508,0.7037731409072876,0.70126873254776,0.6987766623497009,0.6963014006614685,0.6938397884368896,0.6913920044898987,0.6889589428901672,0.6865411400794983,0.6841378808021545,0.6817453503608704,0.6793701648712158,0.6770068407058716,0.6746602654457092,0.6723260283470154,0.6700061559677124,0.66769939661026,0.6654052138328552,0.6631253957748413,0.6608578562736511,0.6586045622825623,0.656366229057312,0.654137909412384,0.6519249081611633,0.6497256755828857,0.6475400328636169,0.6453641057014465,0.6432024836540222,0.6410532593727112,0.6389170289039612,0.6367937326431274,0.6346821188926697,0.6325830221176147,0.6304969191551208,0.6284227967262268,0.6263619661331177,0.6243131756782532,0.6222757697105408,0.6202514171600342,0.6182384490966797,0.6162363886833191,0.6142452955245972,0.6122677326202393,0.6103023290634155,0.6083465218544006,0.6064026951789856,0.6044711470603943,0.6025501489639282,0.6006417870521545,0.5987442135810852,0.5968565344810486,0.5949791073799133,0.5931144952774048,0.5912598967552185,0.5894165635108948,0.5875831246376038,0.585760772228241,0.5839499831199646,0.5821484327316284,0.5803579092025757,0.5785772800445557,0.5768064856529236,0.5750454068183899,0.5732951760292053,0.571556031703949,0.5698270201683044,0.5681039094924927,0.5663942098617554,0.5646937489509583,0.5630021095275879,0.56131911277771,0.559646725654602,0.5579840540885925],\"yaxis\":\"y\",\"type\":\"scatter\"},{\"hovertemplate\":\"variable=Differential loss<br>index=%{x}<br>value=%{y}<extra></extra>\",\"legendgroup\":\"Differential loss\",\"line\":{\"color\":\"#00cc96\",\"dash\":\"solid\"},\"marker\":{\"symbol\":\"circle\"},\"mode\":\"lines\",\"name\":\"Differential loss\",\"orientation\":\"v\",\"showlegend\":true,\"x\":[0,1,2,3,4,5,6,7,8,9,10,11,12,13,14,15,16,17,18,19,20,21,22,23,24,25,26,27,28,29,30,31,32,33,34,35,36,37,38,39,40,41,42,43,44,45,46,47,48,49,50,51,52,53,54,55,56,57,58,59,60,61,62,63,64,65,66,67,68,69,70,71,72,73,74,75,76,77,78,79,80,81,82,83,84,85,86,87,88,89,90,91,92,93,94,95,96,97,98,99,100,101,102,103,104,105,106,107,108,109,110,111,112,113,114,115,116,117,118,119,120,121,122,123,124,125,126,127,128,129,130,131,132,133,134,135,136,137,138,139,140,141,142,143,144,145,146,147,148,149,150,151,152,153,154,155,156,157,158,159,160,161,162,163,164,165,166,167,168,169,170,171,172,173,174,175,176,177,178,179,180,181,182,183,184,185,186,187,188,189,190,191,192,193,194,195,196,197,198,199,200,201,202,203,204,205,206,207,208,209,210,211,212,213,214,215,216,217,218,219,220,221,222,223,224,225,226,227,228,229,230,231,232,233,234,235,236,237,238,239,240,241,242,243,244,245,246,247,248,249],\"xaxis\":\"x\",\"y\":[2403.01806640625,1590.6640625,933.2615356445312,468.4256896972656,188.92723083496094,55.072486877441406,11.23376750946045,7.944005012512207,14.427950859069824,17.555644989013672,15.597482681274414,12.354436874389648,11.740762710571289,13.993861198425293,16.474864959716797,17.20907211303711,16.41658592224121,15.382878303527832,14.702383041381836,13.826187133789062,11.966039657592773,9.105490684509277,6.221889019012451,4.681555271148682,5.21274471282959,7.153227806091309,8.780450820922852,8.690350532531738,6.9061713218688965,4.634888648986816,3.1451659202575684,2.896684169769287,3.4818713665008545,4.146187782287598,4.346091270446777,3.9921913146972656,3.3517799377441406,2.7748303413391113,2.4461867809295654,2.314061403274536,2.2138895988464355,2.0538487434387207,1.8873708248138428,1.822288155555725,1.8794851303100586,1.9504019021987915,1.8921407461166382,1.6625738143920898,1.3677940368652344,1.1790395975112915,1.1908726692199707,1.343151569366455,1.4768614768981934,1.4719527959823608,1.339220643043518,1.1881554126739502,1.1175868511199951,1.139078974723816,1.1916011571884155,1.2127612829208374,1.1912400722503662,1.159300446510315,1.1473338603973389,1.1520583629608154,1.1477233171463013,1.1210567951202393,1.0881367921829224,1.0759724378585815,1.0921739339828491,1.1161376237869263,1.1200659275054932,1.0960309505462646,1.0619523525238037,1.0424387454986572,1.045462965965271,1.0578445196151733,1.061474084854126,1.050978422164917,1.0352751016616821,1.0246485471725464,1.0203888416290283,1.0168814659118652,1.0106168985366821,1.0039923191070557,1.0005173683166504,0.9991868138313293,0.9954501986503601,0.9872929453849792,0.9781753420829773,0.9730179905891418,0.9724655151367188,0.9723871946334839,0.9687826037406921,0.9619746208190918,0.9555057287216187,0.9517679214477539,0.9498056173324585,0.9472781419754028,0.9434351921081543,0.9393610954284668,0.9359714388847351,0.9328215718269348,0.9291335940361023,0.9251424670219421,0.9217467308044434,0.9191238284111023,0.9163945317268372,0.91276615858078,0.9085986018180847,0.9048593640327454,0.9018999338150024,0.8991236686706543,0.8958905935287476,0.8922538757324219,0.8886977434158325,0.8854386210441589,0.882264256477356,0.87897789478302,0.8756750226020813,0.8724706768989563,0.8692821264266968,0.8659576177597046,0.8625672459602356,0.8593190908432007,0.8562520742416382,0.8531774282455444,0.8499560356140137,0.8466696739196777,0.8434814214706421,0.840406596660614,0.8373382687568665,0.8342116475105286,0.8310825228691101,0.8279975056648254,0.8249334096908569,0.8218638300895691,0.8188074827194214,0.8157957196235657,0.8128039240837097,0.8097918629646301,0.8067669868469238,0.8037734031677246,0.8008278608322144,0.7978963255882263,0.7949479818344116,0.7920003533363342,0.7890833020210266,0.7861899733543396,0.7833038568496704,0.7804267406463623,0.7775675654411316,0.7747199535369873,0.7718803882598877,0.7690548300743103,0.7662478089332581,0.7634602785110474,0.7606796026229858,0.7579053640365601,0.7551494836807251,0.7524107694625854,0.7496894598007202,0.7469741106033325,0.74427330493927,0.7415879964828491,0.7389161586761475,0.7362562417984009,0.733610212802887,0.7309818863868713,0.728361964225769,0.7257559895515442,0.7231663465499878,0.7205897569656372,0.7180242538452148,0.715474009513855,0.7129368185997009,0.7104108333587646,0.7078996300697327,0.7054029703140259,0.7029198408126831,0.7004496455192566,0.6979904174804688,0.6955466270446777,0.6931152939796448,0.6906965970993042,0.6882915496826172,0.6859006881713867,0.6835232973098755,0.6811556220054626,0.6788042783737183,0.6764638423919678,0.6741392016410828,0.6718260049819946,0.6695263981819153,0.6672390699386597,0.6649636030197144,0.6627017259597778,0.6604514122009277,0.6582146883010864,0.6559922099113464,0.6537790894508362,0.6515807509422302,0.6493955254554749,0.6472233533859253,0.6450603604316711,0.6429111361503601,0.6407738327980042,0.638649046421051,0.636536717414856,0.6344355940818787,0.6323466300964355,0.63027024269104,0.6282053589820862,0.6261534690856934,0.6241132020950317,0.6220840215682983,0.6200675368309021,0.6180621385574341,0.6160673499107361,0.6140831708908081,0.612112283706665,0.6101532578468323,0.6082035899162292,0.606265664100647,0.6043397784233093,0.602424144744873,0.6005209684371948,0.5986284017562866,0.596745491027832,0.5948726534843445,0.5930124521255493,0.5911620259284973,0.5893227458000183,0.5874931812286377,0.585674524307251,0.5838673114776611,0.5820691585540771,0.5802819132804871,0.5785044431686401,0.5767366290092468,0.5749784111976624,0.5732309818267822,0.571494460105896,0.5697680115699768,0.5680473446846008,0.5663399696350098,0.5646417737007141,0.5629522800445557,0.5612713098526001,0.5596008896827698,0.5579401254653931],\"yaxis\":\"y\",\"type\":\"scatter\"}],                        {\"template\":{\"data\":{\"histogram2dcontour\":[{\"type\":\"histogram2dcontour\",\"colorbar\":{\"outlinewidth\":0,\"ticks\":\"\"},\"colorscale\":[[0.0,\"#0d0887\"],[0.1111111111111111,\"#46039f\"],[0.2222222222222222,\"#7201a8\"],[0.3333333333333333,\"#9c179e\"],[0.4444444444444444,\"#bd3786\"],[0.5555555555555556,\"#d8576b\"],[0.6666666666666666,\"#ed7953\"],[0.7777777777777778,\"#fb9f3a\"],[0.8888888888888888,\"#fdca26\"],[1.0,\"#f0f921\"]]}],\"choropleth\":[{\"type\":\"choropleth\",\"colorbar\":{\"outlinewidth\":0,\"ticks\":\"\"}}],\"histogram2d\":[{\"type\":\"histogram2d\",\"colorbar\":{\"outlinewidth\":0,\"ticks\":\"\"},\"colorscale\":[[0.0,\"#0d0887\"],[0.1111111111111111,\"#46039f\"],[0.2222222222222222,\"#7201a8\"],[0.3333333333333333,\"#9c179e\"],[0.4444444444444444,\"#bd3786\"],[0.5555555555555556,\"#d8576b\"],[0.6666666666666666,\"#ed7953\"],[0.7777777777777778,\"#fb9f3a\"],[0.8888888888888888,\"#fdca26\"],[1.0,\"#f0f921\"]]}],\"heatmap\":[{\"type\":\"heatmap\",\"colorbar\":{\"outlinewidth\":0,\"ticks\":\"\"},\"colorscale\":[[0.0,\"#0d0887\"],[0.1111111111111111,\"#46039f\"],[0.2222222222222222,\"#7201a8\"],[0.3333333333333333,\"#9c179e\"],[0.4444444444444444,\"#bd3786\"],[0.5555555555555556,\"#d8576b\"],[0.6666666666666666,\"#ed7953\"],[0.7777777777777778,\"#fb9f3a\"],[0.8888888888888888,\"#fdca26\"],[1.0,\"#f0f921\"]]}],\"heatmapgl\":[{\"type\":\"heatmapgl\",\"colorbar\":{\"outlinewidth\":0,\"ticks\":\"\"},\"colorscale\":[[0.0,\"#0d0887\"],[0.1111111111111111,\"#46039f\"],[0.2222222222222222,\"#7201a8\"],[0.3333333333333333,\"#9c179e\"],[0.4444444444444444,\"#bd3786\"],[0.5555555555555556,\"#d8576b\"],[0.6666666666666666,\"#ed7953\"],[0.7777777777777778,\"#fb9f3a\"],[0.8888888888888888,\"#fdca26\"],[1.0,\"#f0f921\"]]}],\"contourcarpet\":[{\"type\":\"contourcarpet\",\"colorbar\":{\"outlinewidth\":0,\"ticks\":\"\"}}],\"contour\":[{\"type\":\"contour\",\"colorbar\":{\"outlinewidth\":0,\"ticks\":\"\"},\"colorscale\":[[0.0,\"#0d0887\"],[0.1111111111111111,\"#46039f\"],[0.2222222222222222,\"#7201a8\"],[0.3333333333333333,\"#9c179e\"],[0.4444444444444444,\"#bd3786\"],[0.5555555555555556,\"#d8576b\"],[0.6666666666666666,\"#ed7953\"],[0.7777777777777778,\"#fb9f3a\"],[0.8888888888888888,\"#fdca26\"],[1.0,\"#f0f921\"]]}],\"surface\":[{\"type\":\"surface\",\"colorbar\":{\"outlinewidth\":0,\"ticks\":\"\"},\"colorscale\":[[0.0,\"#0d0887\"],[0.1111111111111111,\"#46039f\"],[0.2222222222222222,\"#7201a8\"],[0.3333333333333333,\"#9c179e\"],[0.4444444444444444,\"#bd3786\"],[0.5555555555555556,\"#d8576b\"],[0.6666666666666666,\"#ed7953\"],[0.7777777777777778,\"#fb9f3a\"],[0.8888888888888888,\"#fdca26\"],[1.0,\"#f0f921\"]]}],\"mesh3d\":[{\"type\":\"mesh3d\",\"colorbar\":{\"outlinewidth\":0,\"ticks\":\"\"}}],\"scatter\":[{\"fillpattern\":{\"fillmode\":\"overlay\",\"size\":10,\"solidity\":0.2},\"type\":\"scatter\"}],\"parcoords\":[{\"type\":\"parcoords\",\"line\":{\"colorbar\":{\"outlinewidth\":0,\"ticks\":\"\"}}}],\"scatterpolargl\":[{\"type\":\"scatterpolargl\",\"marker\":{\"colorbar\":{\"outlinewidth\":0,\"ticks\":\"\"}}}],\"bar\":[{\"error_x\":{\"color\":\"#2a3f5f\"},\"error_y\":{\"color\":\"#2a3f5f\"},\"marker\":{\"line\":{\"color\":\"#E5ECF6\",\"width\":0.5},\"pattern\":{\"fillmode\":\"overlay\",\"size\":10,\"solidity\":0.2}},\"type\":\"bar\"}],\"scattergeo\":[{\"type\":\"scattergeo\",\"marker\":{\"colorbar\":{\"outlinewidth\":0,\"ticks\":\"\"}}}],\"scatterpolar\":[{\"type\":\"scatterpolar\",\"marker\":{\"colorbar\":{\"outlinewidth\":0,\"ticks\":\"\"}}}],\"histogram\":[{\"marker\":{\"pattern\":{\"fillmode\":\"overlay\",\"size\":10,\"solidity\":0.2}},\"type\":\"histogram\"}],\"scattergl\":[{\"type\":\"scattergl\",\"marker\":{\"colorbar\":{\"outlinewidth\":0,\"ticks\":\"\"}}}],\"scatter3d\":[{\"type\":\"scatter3d\",\"line\":{\"colorbar\":{\"outlinewidth\":0,\"ticks\":\"\"}},\"marker\":{\"colorbar\":{\"outlinewidth\":0,\"ticks\":\"\"}}}],\"scattermapbox\":[{\"type\":\"scattermapbox\",\"marker\":{\"colorbar\":{\"outlinewidth\":0,\"ticks\":\"\"}}}],\"scatterternary\":[{\"type\":\"scatterternary\",\"marker\":{\"colorbar\":{\"outlinewidth\":0,\"ticks\":\"\"}}}],\"scattercarpet\":[{\"type\":\"scattercarpet\",\"marker\":{\"colorbar\":{\"outlinewidth\":0,\"ticks\":\"\"}}}],\"carpet\":[{\"aaxis\":{\"endlinecolor\":\"#2a3f5f\",\"gridcolor\":\"white\",\"linecolor\":\"white\",\"minorgridcolor\":\"white\",\"startlinecolor\":\"#2a3f5f\"},\"baxis\":{\"endlinecolor\":\"#2a3f5f\",\"gridcolor\":\"white\",\"linecolor\":\"white\",\"minorgridcolor\":\"white\",\"startlinecolor\":\"#2a3f5f\"},\"type\":\"carpet\"}],\"table\":[{\"cells\":{\"fill\":{\"color\":\"#EBF0F8\"},\"line\":{\"color\":\"white\"}},\"header\":{\"fill\":{\"color\":\"#C8D4E3\"},\"line\":{\"color\":\"white\"}},\"type\":\"table\"}],\"barpolar\":[{\"marker\":{\"line\":{\"color\":\"#E5ECF6\",\"width\":0.5},\"pattern\":{\"fillmode\":\"overlay\",\"size\":10,\"solidity\":0.2}},\"type\":\"barpolar\"}],\"pie\":[{\"automargin\":true,\"type\":\"pie\"}]},\"layout\":{\"autotypenumbers\":\"strict\",\"colorway\":[\"#636efa\",\"#EF553B\",\"#00cc96\",\"#ab63fa\",\"#FFA15A\",\"#19d3f3\",\"#FF6692\",\"#B6E880\",\"#FF97FF\",\"#FECB52\"],\"font\":{\"color\":\"#2a3f5f\"},\"hovermode\":\"closest\",\"hoverlabel\":{\"align\":\"left\"},\"paper_bgcolor\":\"white\",\"plot_bgcolor\":\"#E5ECF6\",\"polar\":{\"bgcolor\":\"#E5ECF6\",\"angularaxis\":{\"gridcolor\":\"white\",\"linecolor\":\"white\",\"ticks\":\"\"},\"radialaxis\":{\"gridcolor\":\"white\",\"linecolor\":\"white\",\"ticks\":\"\"}},\"ternary\":{\"bgcolor\":\"#E5ECF6\",\"aaxis\":{\"gridcolor\":\"white\",\"linecolor\":\"white\",\"ticks\":\"\"},\"baxis\":{\"gridcolor\":\"white\",\"linecolor\":\"white\",\"ticks\":\"\"},\"caxis\":{\"gridcolor\":\"white\",\"linecolor\":\"white\",\"ticks\":\"\"}},\"coloraxis\":{\"colorbar\":{\"outlinewidth\":0,\"ticks\":\"\"}},\"colorscale\":{\"sequential\":[[0.0,\"#0d0887\"],[0.1111111111111111,\"#46039f\"],[0.2222222222222222,\"#7201a8\"],[0.3333333333333333,\"#9c179e\"],[0.4444444444444444,\"#bd3786\"],[0.5555555555555556,\"#d8576b\"],[0.6666666666666666,\"#ed7953\"],[0.7777777777777778,\"#fb9f3a\"],[0.8888888888888888,\"#fdca26\"],[1.0,\"#f0f921\"]],\"sequentialminus\":[[0.0,\"#0d0887\"],[0.1111111111111111,\"#46039f\"],[0.2222222222222222,\"#7201a8\"],[0.3333333333333333,\"#9c179e\"],[0.4444444444444444,\"#bd3786\"],[0.5555555555555556,\"#d8576b\"],[0.6666666666666666,\"#ed7953\"],[0.7777777777777778,\"#fb9f3a\"],[0.8888888888888888,\"#fdca26\"],[1.0,\"#f0f921\"]],\"diverging\":[[0,\"#8e0152\"],[0.1,\"#c51b7d\"],[0.2,\"#de77ae\"],[0.3,\"#f1b6da\"],[0.4,\"#fde0ef\"],[0.5,\"#f7f7f7\"],[0.6,\"#e6f5d0\"],[0.7,\"#b8e186\"],[0.8,\"#7fbc41\"],[0.9,\"#4d9221\"],[1,\"#276419\"]]},\"xaxis\":{\"gridcolor\":\"white\",\"linecolor\":\"white\",\"ticks\":\"\",\"title\":{\"standoff\":15},\"zerolinecolor\":\"white\",\"automargin\":true,\"zerolinewidth\":2},\"yaxis\":{\"gridcolor\":\"white\",\"linecolor\":\"white\",\"ticks\":\"\",\"title\":{\"standoff\":15},\"zerolinecolor\":\"white\",\"automargin\":true,\"zerolinewidth\":2},\"scene\":{\"xaxis\":{\"backgroundcolor\":\"#E5ECF6\",\"gridcolor\":\"white\",\"linecolor\":\"white\",\"showbackground\":true,\"ticks\":\"\",\"zerolinecolor\":\"white\",\"gridwidth\":2},\"yaxis\":{\"backgroundcolor\":\"#E5ECF6\",\"gridcolor\":\"white\",\"linecolor\":\"white\",\"showbackground\":true,\"ticks\":\"\",\"zerolinecolor\":\"white\",\"gridwidth\":2},\"zaxis\":{\"backgroundcolor\":\"#E5ECF6\",\"gridcolor\":\"white\",\"linecolor\":\"white\",\"showbackground\":true,\"ticks\":\"\",\"zerolinecolor\":\"white\",\"gridwidth\":2}},\"shapedefaults\":{\"line\":{\"color\":\"#2a3f5f\"}},\"annotationdefaults\":{\"arrowcolor\":\"#2a3f5f\",\"arrowhead\":0,\"arrowwidth\":1},\"geo\":{\"bgcolor\":\"white\",\"landcolor\":\"#E5ECF6\",\"subunitcolor\":\"white\",\"showland\":true,\"showlakes\":true,\"lakecolor\":\"white\"},\"title\":{\"x\":0.05},\"mapbox\":{\"style\":\"light\"}}},\"xaxis\":{\"anchor\":\"y\",\"domain\":[0.0,1.0],\"title\":{\"text\":\"index\"}},\"yaxis\":{\"anchor\":\"x\",\"domain\":[0.0,1.0],\"title\":{\"text\":\"value\"},\"type\":\"log\"},\"legend\":{\"title\":{\"text\":\"variable\"},\"tracegroupgap\":0},\"margin\":{\"t\":60}},                        {\"responsive\": true}                    ).then(function(){\n",
       "                            \n",
       "var gd = document.getElementById('4c029518-38ea-4ee4-b159-9fee980729fa');\n",
       "var x = new MutationObserver(function (mutations, observer) {{\n",
       "        var display = window.getComputedStyle(gd).display;\n",
       "        if (!display || display === 'none') {{\n",
       "            console.log([gd, 'removed!']);\n",
       "            Plotly.purge(gd);\n",
       "            observer.disconnect();\n",
       "        }}\n",
       "}});\n",
       "\n",
       "// Listen for the removal of the full notebook cells\n",
       "var notebookContainer = gd.closest('#notebook-container');\n",
       "if (notebookContainer) {{\n",
       "    x.observe(notebookContainer, {childList: true});\n",
       "}}\n",
       "\n",
       "// Listen for the clearing of the current output cell\n",
       "var outputEl = gd.closest('.output');\n",
       "if (outputEl) {{\n",
       "    x.observe(outputEl, {childList: true});\n",
       "}}\n",
       "\n",
       "                        })                };                });            </script>        </div>"
      ]
     },
     "metadata": {},
     "output_type": "display_data"
    }
   ],
   "source": [
    "pd.options.plotting.backend = \"plotly\"\n",
    "df.plot(x=df.index, y=['Quality loss', \n",
    "                               'Total loss',\n",
    "                               #'Boundary loss',\n",
    "                               'Differential loss'], log_y=True)"
   ]
  },
  {
   "cell_type": "code",
   "execution_count": 77,
   "metadata": {},
   "outputs": [
    {
     "data": {
      "image/png": "[encoded data removed]",
      "text/plain": [
       "<Figure size 432x288 with 1 Axes>"
      ]
     },
     "metadata": {
      "needs_background": "light"
     },
     "output_type": "display_data"
    }
   ],
   "source": [
    "q_final = q_diff_model(qubits)\n",
    "q_final.set_weights(trained_weights[max_steps])\n",
    "\n",
    "x = np.linspace(0,0.9,50)\n",
    "fm = generate_data(qubits,x)\n",
    "f = q_final(fm)\n",
    "f = [y[0] for y in f.numpy()]\n",
    "\n",
    "k = 1.e-1\n",
    "l = 8\n",
    "\n",
    "y = u(x,k,l)\n",
    "\n",
    "plt.plot(x, f, 'r', label='f(x)')\n",
    "plt.plot(x, y, 'g--', label='u(x)')\n",
    "\n",
    "plt.legend()\n",
    "plt.show()"
   ]
  },
  {
   "cell_type": "code",
   "execution_count": 78,
   "metadata": {},
   "outputs": [
    {
     "data": {
      "image/png": "[encoded data removed]",
      "text/plain": [
       "<Figure size 432x288 with 1 Axes>"
      ]
     },
     "metadata": {
      "needs_background": "light"
     },
     "output_type": "display_data"
    }
   ],
   "source": [
    "q_final = q_diff_model(qubits)\n",
    "q_final.set_weights(trained_weights[max_steps])\n",
    "\n",
    "x = np.linspace(0,0.9,50)\n",
    "dfm = generate_data_diff(qubits,x)\n",
    "yr = model_output_diff(q_final,qubits,x,dfm)\n",
    "\n",
    "y_fit = l*np.exp(-l*k*x)*(-k*np.cos(l*x) - np.sin(l*x))\n",
    "\n",
    "plt.plot(x, yr, 'r', label='df(x)')\n",
    "plt.plot(x, y_fit, 'g--', label='du(x)')\n",
    "\n",
    "plt.legend()\n",
    "plt.show()"
   ]
  },
  {
   "cell_type": "code",
   "execution_count": null,
   "metadata": {},
   "outputs": [],
   "source": []
  }
 ],
 "metadata": {
  "kernelspec": {
   "display_name": "Python 3.8.13 ('tfq2')",
   "language": "python",
   "name": "python3"
  },
  "language_info": {
   "codemirror_mode": {
    "name": "ipython",
    "version": 3
   },
   "file_extension": ".py",
   "mimetype": "text/x-python",
   "name": "python",
   "nbconvert_exporter": "python",
   "pygments_lexer": "ipython3",
   "version": "3.8.13"
  },
  "orig_nbformat": 4,
  "vscode": {
   "interpreter": {
    "hash": "d66df39ce4464390fe5ccb83253cfaba5fdd7b5ccff2d77470fe2d646e9f65ed"
   }
  }
 },
 "nbformat": 4,
 "nbformat_minor": 2
}
