{
 "cells": [
  {
   "cell_type": "code",
   "execution_count": 1,
   "metadata": {},
   "outputs": [],
   "source": [
    "import cirq\n",
    "from cirq.contrib.svg import SVGCircuit\n",
    "import time\n",
    "import qsimcirq\n",
    "import numpy as np\n",
    "import matplotlib.pyplot as plt\n",
    "from scipy.optimize import minimize"
   ]
  },
  {
   "cell_type": "code",
   "execution_count": 2,
   "metadata": {},
   "outputs": [],
   "source": [
    "def create_circ(x, theta):\n",
    "    \"\"\"\n",
    "    Create circuit which includes three parts:\n",
    "     - feature map\n",
    "     - single qubit rotations\n",
    "     - CNOT layer\n",
    "    \"\"\"\n",
    "    circ = cirq.Circuit()\n",
    "    theta = theta.reshape(n_qubits,3,n_layers)\n",
    "    \n",
    "    # feature map\n",
    "    f_map = [cirq.rx(np.arcsin(x)).on(q) for q in qubits]\n",
    "    circ += f_map\n",
    "\n",
    "    # parametrized layer\n",
    "    layers = theta.shape[-1]\n",
    "    for l in range(layers):\n",
    "        circ += [cirq.ry(theta[i,0,l]).on(q) for i,q in enumerate(qubits)]\n",
    "        circ += [cirq.rz(theta[i,1,l]).on(q) for i,q in enumerate(qubits)]\n",
    "        circ += [cirq.ry(theta[i,2,l]).on(q) for i,q in enumerate(qubits)]\n",
    "        circ += [cirq.CNOT(q0,q1) for q0,q1 in zip(qubits,qubits[1:])]\n",
    "    \n",
    "    return circ"
   ]
  },
  {
   "cell_type": "code",
   "execution_count": 3,
   "metadata": {},
   "outputs": [],
   "source": [
    "def get_expval(x, theta):\n",
    "    \"\"\"\n",
    "    Get expectation value from current state vector\n",
    "    \"\"\"\n",
    "    c = create_circ(x,theta)\n",
    "\n",
    "    sim = cirq.sim.Simulator()\n",
    "    #sim = qsimcirq.QSimSimulator()\n",
    "    res = sim.simulate(c)\n",
    "\n",
    "    q_measured = qubits[0]\n",
    "    obs = cirq.Z(q_measured)\n",
    "    final_state_vector = res.final_state_vector\n",
    "    phi = obs.expectation_from_state_vector(final_state_vector, {q_measured :0}).real\n",
    "\n",
    "    return phi"
   ]
  },
  {
   "cell_type": "code",
   "execution_count": 25,
   "metadata": {},
   "outputs": [],
   "source": [
    "def calculate_loss(theta):\n",
    "    \"\"\"\n",
    "    Calculate loss comparing circuit output to target function\n",
    "    \"\"\"\n",
    "    loss = 0\n",
    "    theta = theta.reshape(n_qubits,3,n_layers)\n",
    "\n",
    "    xs = x_train\n",
    "    ys = y_train\n",
    "\n",
    "    for i in range(len(xs)):\n",
    "        phi = get_expval(xs[i], theta)\n",
    "        y = ys[i]\n",
    "        loss += (phi-y)**2\n",
    "    \n",
    "    return loss"
   ]
  },
  {
   "cell_type": "code",
   "execution_count": 26,
   "metadata": {},
   "outputs": [],
   "source": [
    "train_pts = 15\n",
    "x_train = np.linspace(-1,1,train_pts)\n",
    "y_train = x_train**2\n",
    "\n",
    "n_qubits = 2\n",
    "n_layers = 2"
   ]
  },
  {
   "cell_type": "code",
   "execution_count": 27,
   "metadata": {},
   "outputs": [],
   "source": [
    "qubits = [cirq.LineQubit(i) for i in range(n_qubits)]\n",
    "theta = np.random.uniform(-np.pi, np.pi, n_qubits*3*n_layers)"
   ]
  },
  {
   "cell_type": "code",
   "execution_count": 28,
   "metadata": {},
   "outputs": [
    {
     "data": {
      "image/svg+xml": "<svg xmlns=\"http://www.w3.org/2000/svg\" width=\"951.513671875\" height=\"100.0\"><line x1=\"30.0\" x2=\"921.513671875\" y1=\"25.0\" y2=\"25.0\" stroke=\"#1967d2\" stroke-width=\"1\" /><line x1=\"30.0\" x2=\"921.513671875\" y1=\"75.0\" y2=\"75.0\" stroke=\"#1967d2\" stroke-width=\"1\" /><line x1=\"499.2834765625\" x2=\"499.2834765625\" y1=\"25.0\" y2=\"75.0\" stroke=\"black\" stroke-width=\"3\" /><line x1=\"881.513671875\" x2=\"881.513671875\" y1=\"25.0\" y2=\"75.0\" stroke=\"black\" stroke-width=\"3\" /><rect x=\"10.0\" y=\"5.0\" width=\"40\" height=\"40\" stroke=\"black\" fill=\"white\" stroke-width=\"0\" /><text x=\"30.0\" y=\"25.0\" dominant-baseline=\"middle\" text-anchor=\"middle\" font-size=\"14px\" font-family=\"Arial\">0: </text><rect x=\"10.0\" y=\"55.0\" width=\"40\" height=\"40\" stroke=\"black\" fill=\"white\" stroke-width=\"0\" /><text x=\"30.0\" y=\"75.0\" dominant-baseline=\"middle\" text-anchor=\"middle\" font-size=\"14px\" font-family=\"Arial\">1: </text><rect x=\"70.0\" y=\"5.0\" width=\"72.1050390625\" height=\"40\" stroke=\"black\" fill=\"white\" stroke-width=\"1\" /><text x=\"106.05251953125\" y=\"25.0\" dominant-baseline=\"middle\" text-anchor=\"middle\" font-size=\"14px\" font-family=\"Arial\">Rx(-0.5π)</text><rect x=\"70.0\" y=\"55.0\" width=\"72.1050390625\" height=\"40\" stroke=\"black\" fill=\"white\" stroke-width=\"1\" /><text x=\"106.05251953125\" y=\"75.0\" dominant-baseline=\"middle\" text-anchor=\"middle\" font-size=\"14px\" font-family=\"Arial\">Rx(-0.5π)</text><rect x=\"162.1050390625\" y=\"5.0\" width=\"84.097734375\" height=\"40\" stroke=\"black\" fill=\"white\" stroke-width=\"1\" /><text x=\"204.15390625\" y=\"25.0\" dominant-baseline=\"middle\" text-anchor=\"middle\" font-size=\"14px\" font-family=\"Arial\">Ry(0.485π)</text><rect x=\"162.1050390625\" y=\"55.0\" width=\"84.097734375\" height=\"40\" stroke=\"black\" fill=\"white\" stroke-width=\"1\" /><text x=\"204.15390625\" y=\"75.0\" dominant-baseline=\"middle\" text-anchor=\"middle\" font-size=\"14px\" font-family=\"Arial\">Ry(-0.68π)</text><rect x=\"266.2027734375\" y=\"5.0\" width=\"83.93121093750001\" height=\"40\" stroke=\"black\" fill=\"white\" stroke-width=\"1\" /><text x=\"308.16837890625004\" y=\"25.0\" dominant-baseline=\"middle\" text-anchor=\"middle\" font-size=\"14px\" font-family=\"Arial\">Rz(0.739π)</text><rect x=\"266.2027734375\" y=\"55.0\" width=\"83.93121093750001\" height=\"40\" stroke=\"black\" fill=\"white\" stroke-width=\"1\" /><text x=\"308.16837890625004\" y=\"75.0\" dominant-baseline=\"middle\" text-anchor=\"middle\" font-size=\"14px\" font-family=\"Arial\">Rz(0.886π)</text><rect x=\"370.133984375\" y=\"5.0\" width=\"89.1494921875\" height=\"40\" stroke=\"black\" fill=\"white\" stroke-width=\"1\" /><text x=\"414.70873046875\" y=\"25.0\" dominant-baseline=\"middle\" text-anchor=\"middle\" font-size=\"14px\" font-family=\"Arial\">Ry(-0.167π)</text><rect x=\"370.133984375\" y=\"55.0\" width=\"89.1494921875\" height=\"40\" stroke=\"black\" fill=\"white\" stroke-width=\"1\" /><text x=\"414.70873046875\" y=\"75.0\" dominant-baseline=\"middle\" text-anchor=\"middle\" font-size=\"14px\" font-family=\"Arial\">Ry(-0.884π)</text><circle cx=\"499.2834765625\" cy=\"25.0\" r=\"10.0\" /><rect x=\"479.2834765625\" y=\"55.0\" width=\"40\" height=\"40\" stroke=\"black\" fill=\"white\" stroke-width=\"1\" /><text x=\"499.2834765625\" y=\"75.0\" dominant-baseline=\"middle\" text-anchor=\"middle\" font-size=\"18px\" font-family=\"Arial\">X</text><rect x=\"539.2834765625\" y=\"5.0\" width=\"89.1494921875\" height=\"40\" stroke=\"black\" fill=\"white\" stroke-width=\"1\" /><text x=\"583.8582226562501\" y=\"25.0\" dominant-baseline=\"middle\" text-anchor=\"middle\" font-size=\"14px\" font-family=\"Arial\">Ry(-0.008π)</text><rect x=\"539.2834765625\" y=\"55.0\" width=\"89.1494921875\" height=\"40\" stroke=\"black\" fill=\"white\" stroke-width=\"1\" /><text x=\"583.8582226562501\" y=\"75.0\" dominant-baseline=\"middle\" text-anchor=\"middle\" font-size=\"14px\" font-family=\"Arial\">Ry(0.366π)</text><rect x=\"648.43296875\" y=\"5.0\" width=\"83.93121093750001\" height=\"40\" stroke=\"black\" fill=\"white\" stroke-width=\"1\" /><text x=\"690.39857421875\" y=\"25.0\" dominant-baseline=\"middle\" text-anchor=\"middle\" font-size=\"14px\" font-family=\"Arial\">Rz(0.992π)</text><rect x=\"648.43296875\" y=\"55.0\" width=\"83.93121093750001\" height=\"40\" stroke=\"black\" fill=\"white\" stroke-width=\"1\" /><text x=\"690.39857421875\" y=\"75.0\" dominant-baseline=\"middle\" text-anchor=\"middle\" font-size=\"14px\" font-family=\"Arial\">Rz(0.78π)</text><rect x=\"752.3641796875\" y=\"5.0\" width=\"89.1494921875\" height=\"40\" stroke=\"black\" fill=\"white\" stroke-width=\"1\" /><text x=\"796.9389257812501\" y=\"25.0\" dominant-baseline=\"middle\" text-anchor=\"middle\" font-size=\"14px\" font-family=\"Arial\">Ry(0.941π)</text><rect x=\"752.3641796875\" y=\"55.0\" width=\"89.1494921875\" height=\"40\" stroke=\"black\" fill=\"white\" stroke-width=\"1\" /><text x=\"796.9389257812501\" y=\"75.0\" dominant-baseline=\"middle\" text-anchor=\"middle\" font-size=\"14px\" font-family=\"Arial\">Ry(-0.446π)</text><circle cx=\"881.513671875\" cy=\"25.0\" r=\"10.0\" /><rect x=\"861.513671875\" y=\"55.0\" width=\"40\" height=\"40\" stroke=\"black\" fill=\"white\" stroke-width=\"1\" /><text x=\"881.513671875\" y=\"75.0\" dominant-baseline=\"middle\" text-anchor=\"middle\" font-size=\"18px\" font-family=\"Arial\">X</text></svg>",
      "text/plain": [
       "<cirq.contrib.svg.svg.SVGCircuit at 0x7f01cd9a7550>"
      ]
     },
     "execution_count": 28,
     "metadata": {},
     "output_type": "execute_result"
    }
   ],
   "source": [
    "c = create_circ(x_train[0], theta)\n",
    "SVGCircuit(c)"
   ]
  },
  {
   "cell_type": "code",
   "execution_count": 29,
   "metadata": {},
   "outputs": [
    {
     "name": "stdout",
     "output_type": "stream",
     "text": [
      "Optimization terminated successfully.\n",
      "         Current function value: 0.000013\n",
      "         Iterations: 260\n",
      "         Function evaluations: 381\n",
      "convergence time: 27.724178552627563\n"
     ]
    }
   ],
   "source": [
    "start_time = time.time()\n",
    "fit = minimize(calculate_loss, x0=theta, method=\"Nelder-Mead\", options={'maxiter':400, 'disp':True}, tol=1e-2)\n",
    "print(f'convergence time: {time.time() - start_time}')"
   ]
  },
  {
   "cell_type": "code",
   "execution_count": 32,
   "metadata": {},
   "outputs": [
    {
     "data": {
      "image/png": "[encoded data removed]",
      "text/plain": [
       "<Figure size 432x288 with 1 Axes>"
      ]
     },
     "metadata": {
      "needs_background": "light"
     },
     "output_type": "display_data"
    }
   ],
   "source": [
    "x_fit = np.sort(np.random.uniform(-1, 1, 50))\n",
    "f_x = x_fit**2\n",
    "\n",
    "q_fit = np.array([get_expval(x, fit.x) for x in x_fit])\n",
    "q_first = np.array([get_expval(x, theta) for x in x_fit])\n",
    "\n",
    "plt.scatter(x_fit,f_x)\n",
    "plt.plot(x_fit, q_fit, 'r', label='final fit')\n",
    "plt.plot(x_fit, q_first, 'g--', label='first fit')\n",
    "\n",
    "plt.legend()\n",
    "plt.show()"
   ]
  },
  {
   "cell_type": "code",
   "execution_count": null,
   "metadata": {},
   "outputs": [],
   "source": []
  }
 ],
 "metadata": {
  "kernelspec": {
   "display_name": "Python 3.8.13 ('tfq2')",
   "language": "python",
   "name": "python3"
  },
  "language_info": {
   "codemirror_mode": {
    "name": "ipython",
    "version": 3
   },
   "file_extension": ".py",
   "mimetype": "text/x-python",
   "name": "python",
   "nbconvert_exporter": "python",
   "pygments_lexer": "ipython3",
   "version": "3.8.13"
  },
  "orig_nbformat": 4,
  "vscode": {
   "interpreter": {
    "hash": "d66df39ce4464390fe5ccb83253cfaba5fdd7b5ccff2d77470fe2d646e9f65ed"
   }
  }
 },
 "nbformat": 4,
 "nbformat_minor": 2
}
